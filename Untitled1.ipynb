{
  "nbformat": 4,
  "nbformat_minor": 0,
  "metadata": {
    "colab": {
      "provenance": []
    },
    "kernelspec": {
      "name": "python3",
      "display_name": "Python 3"
    },
    "language_info": {
      "name": "python"
    }
  },
  "cells": [
    {
      "cell_type": "markdown",
      "source": [
        "1. What is Python, and why is it popular ?\n",
        "- Python is a programming language, a way to communicate with computers. Python is popular because of easy to learn, easy to use, simplicity, versatiliy, good ecosystem of libraries."
      ],
      "metadata": {
        "id": "sia-KCaxNXau"
      }
    },
    {
      "cell_type": "markdown",
      "source": [
        "2. What is an interpreter in Python ?\n",
        "- In python interpreter read and execute code line by line."
      ],
      "metadata": {
        "id": "fOg33jhaNap9"
      }
    },
    {
      "cell_type": "markdown",
      "source": [
        "3. What are pre-defined keywords in Python ?\n",
        "- Keywords are reserved words in python that have special meaning a specific purpose. example: if, else, def, import,break, etc."
      ],
      "metadata": {
        "id": "YChOgi7YNdYb"
      }
    },
    {
      "cell_type": "markdown",
      "source": [
        "4. Can keywords be used as variable names ?\n",
        "- They cannot be used as variables."
      ],
      "metadata": {
        "id": "xwbz7lM0Ndja"
      }
    },
    {
      "cell_type": "code",
      "source": [
        "#example of keywords used as variable name\n",
        "print=\"Hello World\"\n",
        "print(print)"
      ],
      "metadata": {
        "colab": {
          "base_uri": "https://localhost:8080/",
          "height": 182
        },
        "id": "MpdpZyICNnnu",
        "outputId": "bc92bf96-5aa6-4360-b194-2b4338bc91e8"
      },
      "execution_count": 1,
      "outputs": [
        {
          "output_type": "error",
          "ename": "TypeError",
          "evalue": "'str' object is not callable",
          "traceback": [
            "\u001b[0;31m---------------------------------------------------------------------------\u001b[0m",
            "\u001b[0;31mTypeError\u001b[0m                                 Traceback (most recent call last)",
            "\u001b[0;32m<ipython-input-1-c1f5f696f403>\u001b[0m in \u001b[0;36m<cell line: 0>\u001b[0;34m()\u001b[0m\n\u001b[1;32m      1\u001b[0m \u001b[0;31m#example of keywords used as variable name\u001b[0m\u001b[0;34m\u001b[0m\u001b[0;34m\u001b[0m\u001b[0m\n\u001b[1;32m      2\u001b[0m \u001b[0mprint\u001b[0m\u001b[0;34m=\u001b[0m\u001b[0;34m\"Hello World\"\u001b[0m\u001b[0;34m\u001b[0m\u001b[0;34m\u001b[0m\u001b[0m\n\u001b[0;32m----> 3\u001b[0;31m \u001b[0mprint\u001b[0m\u001b[0;34m(\u001b[0m\u001b[0mprint\u001b[0m\u001b[0;34m)\u001b[0m\u001b[0;34m\u001b[0m\u001b[0;34m\u001b[0m\u001b[0m\n\u001b[0m",
            "\u001b[0;31mTypeError\u001b[0m: 'str' object is not callable"
          ]
        }
      ]
    },
    {
      "cell_type": "markdown",
      "source": [
        "5. What is mutability in Python ?\n",
        "- In python container whose values can be changed after they are created are called as mutable objects."
      ],
      "metadata": {
        "id": "fCCSI5pzNdpV"
      }
    },
    {
      "cell_type": "code",
      "source": [
        "#example of mutability\n",
        "lst=[1,2,\"Ajay\",\"Data\"]\n",
        "print(lst)\n",
        "lst[2]=\"Valmiki\"\n",
        "print(lst)"
      ],
      "metadata": {
        "colab": {
          "base_uri": "https://localhost:8080/"
        },
        "id": "lxgplGB6NykQ",
        "outputId": "33465b42-0237-4189-b7f8-09e9b0f0d5e0"
      },
      "execution_count": 1,
      "outputs": [
        {
          "output_type": "stream",
          "name": "stdout",
          "text": [
            "[1, 2, 'Ajay', 'Data']\n",
            "[1, 2, 'Valmiki', 'Data']\n"
          ]
        }
      ]
    },
    {
      "cell_type": "markdown",
      "source": [
        "6. Why are lists mutable, but tuples are immutable ?\n",
        "- Lists are mutable because you might need to change, add, or remove items later — they are meant to be flexible.\n",
        "- Tuples are immutable because they are used to protect data — once created, they stay the same for safety, speed, and reliability."
      ],
      "metadata": {
        "id": "1T5I7IAENdr1"
      }
    },
    {
      "cell_type": "markdown",
      "source": [
        "7. What is the difference between “==” and “is” operators in Python ?\n",
        "- \"==\" checks values are same while \"is\" compare memory location of two object."
      ],
      "metadata": {
        "id": "vWr-pTo-Nduz"
      }
    },
    {
      "cell_type": "code",
      "source": [
        "#example of \"==\" and \"is\"\n",
        "a=[1,2,3]\n",
        "b=[1,2,3]\n",
        "print(a==b)\n",
        "print(a is b)"
      ],
      "metadata": {
        "colab": {
          "base_uri": "https://localhost:8080/"
        },
        "id": "mNCFL1uwOEV2",
        "outputId": "34c6b0b4-8727-4bac-b6f9-e6eb3c136e47"
      },
      "execution_count": 2,
      "outputs": [
        {
          "output_type": "stream",
          "name": "stdout",
          "text": [
            "True\n",
            "False\n"
          ]
        }
      ]
    },
    {
      "cell_type": "markdown",
      "source": [
        "8. What are logical operators in Python\n",
        "- A logical operator in Python is used to combine conditions (True/False) and make decisions.\n",
        "operators are as follows: and(both condition must be true)\n",
        "or(either or both condition can be true)\n",
        "not(reverse true / false)"
      ],
      "metadata": {
        "id": "_W-gLKdqNdxd"
      }
    },
    {
      "cell_type": "markdown",
      "source": [
        "9. What is type casting in Python ?\n",
        "- Type casting or type conversion converting one data type into another. There are of two types(implicit and explicit)\n",
        "In python declaration of any data type is not necessary, python itself declare data type it is implicit.\n",
        "In explicit you do manually."
      ],
      "metadata": {
        "id": "U8sXN9jvNd0O"
      }
    },
    {
      "cell_type": "code",
      "source": [
        "#example of implicit and explicit\n",
        "a=2\n",
        "b=\"5\"\n",
        "result=a+int(b)\n",
        "print(type(a)) # implicit type casting\n",
        "print(type(result)) #explicit type casting"
      ],
      "metadata": {
        "colab": {
          "base_uri": "https://localhost:8080/"
        },
        "id": "wF8pj9y9OKRv",
        "outputId": "fde1e0ea-214c-4989-d2ad-9339a8cb9466"
      },
      "execution_count": 3,
      "outputs": [
        {
          "output_type": "stream",
          "name": "stdout",
          "text": [
            "<class 'int'>\n",
            "<class 'int'>\n"
          ]
        }
      ]
    },
    {
      "cell_type": "markdown",
      "source": [
        "10. What is the difference between implicit and explicit type casting ?\n",
        "- Implicit (done by python automatically) and explicit (done manually)"
      ],
      "metadata": {
        "id": "WpBBkGZMNd3J"
      }
    },
    {
      "cell_type": "markdown",
      "source": [
        "11. What is the purpose of conditional statements in Python ?\n",
        "- Conditional statements are used to make decision and run different code based on whether a condition is true or false."
      ],
      "metadata": {
        "id": "YMwxgKCjNd5y"
      }
    },
    {
      "cell_type": "markdown",
      "source": [
        "12. How does the elif statement work ?"
      ],
      "metadata": {
        "id": "4vSpUsjoNd8a"
      }
    },
    {
      "cell_type": "code",
      "source": [
        "#example of how elif works\n",
        "age=19\n",
        "if (17<=age<18):\n",
        "    print(\"You are eligible for learner license\")\n",
        "elif age>=18:   #if this statement is true then block of code will be executed\n",
        "    print(\"You are eligible for driving license\")\n",
        "else:\n",
        "    print(\"You are not eligible\")\n"
      ],
      "metadata": {
        "id": "APYZs-TAORVh"
      },
      "execution_count": null,
      "outputs": []
    },
    {
      "cell_type": "markdown",
      "source": [
        "13. What is the difference between for and while loops ?\n",
        "- \"for\" loop is used to iterate list, etc.\n",
        "\"while\" loop iterate until condition is met"
      ],
      "metadata": {
        "id": "tAcjTc-bNd-i"
      }
    },
    {
      "cell_type": "markdown",
      "source": [
        "14. Describe a scenario where a while loop is more suitable than a for loop?\n",
        "- A while loop is ideal when you don't know how many times you need to loop, but want to repeat until a condition is met, like asking for valid input until the user provides a correct response.s"
      ],
      "metadata": {
        "id": "8DhTVcIENeCC"
      }
    },
    {
      "cell_type": "code",
      "source": [
        "#example of question number 14\n",
        "age = -1\n",
        "while age < 0 or age > 120:  # Keep looping until the age is within a valid range\n",
        "    age = int(input(\"Please enter your age (between 0 and 120): \"))\n",
        "print(f\"Your age is: {age}\")"
      ],
      "metadata": {
        "id": "JNfMrTYYOXjk"
      },
      "execution_count": null,
      "outputs": []
    }
  ]
}