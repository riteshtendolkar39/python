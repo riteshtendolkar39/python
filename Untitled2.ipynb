{
 "cells": [
  {
   "cell_type": "code",
   "execution_count": 1,
   "id": "de82e808-5e73-4e77-92b2-dfc182e88dc4",
   "metadata": {},
   "outputs": [
    {
     "name": "stdout",
     "output_type": "stream",
     "text": [
      "Hello World\n"
     ]
    }
   ],
   "source": [
    "#Write a Python program to print \"Hello, World!y\n",
    "print(\"Hello World\")"
   ]
  },
  {
   "cell_type": "code",
   "execution_count": 2,
   "id": "1511dbe4-5d09-4256-8825-2337dbb104e9",
   "metadata": {},
   "outputs": [
    {
     "name": "stdout",
     "output_type": "stream",
     "text": [
      "Ritesh is 19 years old\n"
     ]
    }
   ],
   "source": [
    "#Write a Python program that displays your name and age\n",
    "name=\"Ritesh\"\n",
    "age=19\n",
    "print(name,\"is\",age,\"years old\")"
   ]
  },
  {
   "cell_type": "code",
   "execution_count": 6,
   "id": "4f956e0e-628f-46f8-8d12-c33f240f9d95",
   "metadata": {},
   "outputs": [
    {
     "name": "stdout",
     "output_type": "stream",
     "text": [
      "Python Keywords: \n",
      "False, None, True, and, as, assert, async, await, break, class, continue, def, del, elif, else, except, finally, for, from, global, if, import, in, is, lambda, nonlocal, not, or, pass, raise, return, try, while, with, yield, "
     ]
    }
   ],
   "source": [
    "#Write code to print all the pre-defined keywords in Python using the keyword library\n",
    "import keyword\n",
    "keyword_list=keyword.kwlist\n",
    "print(\"Python Keywords: \")\n",
    "for kw in keyword_list:\n",
    "    print(kw, end=\", \")"
   ]
  },
  {
   "cell_type": "code",
   "execution_count": 47,
   "id": "ac130e53-caca-4d4d-b31e-6108f0f888c3",
   "metadata": {},
   "outputs": [
    {
     "name": "stdin",
     "output_type": "stream",
     "text": [
      "Enter the python keyword: as\n"
     ]
    },
    {
     "name": "stdout",
     "output_type": "stream",
     "text": [
      "as is python keyword\n"
     ]
    }
   ],
   "source": [
    "#Write a program that checks if a given word is a Python keyword.\n",
    "import keyword\n",
    "def is_python_keyword(word):\n",
    "    return keyword.iskeyword(word)\n",
    "word=input(\"Enter the python keyword:\")\n",
    "if is_python_keyword(word):\n",
    "    print(f\"{word} is python keyword\")\n",
    "else:\n",
    "    print(f\"{word} is not a python keyword\")\n"
   ]
  },
  {
   "cell_type": "code",
   "execution_count": 60,
   "id": "28da740e-6e9a-446c-9eda-e72085a08279",
   "metadata": {},
   "outputs": [
    {
     "name": "stdout",
     "output_type": "stream",
     "text": [
      "Original list: [1, 2, 4.5, True, 'Ajay', 'Vijay', False, True]\n",
      "\n",
      "2048675894848\n",
      "Modified list: [1, 2, 4.5, 'Data', 'Ajay', 'Vijay', False, True]\n",
      "\n",
      "2048675894848\n",
      "Original tuples: ('Darshan', 15, True, 'Pooja', 'Raghav', 99.99)\n",
      "\n"
     ]
    },
    {
     "ename": "TypeError",
     "evalue": "'tuple' object does not support item assignment",
     "output_type": "error",
     "traceback": [
      "\u001b[31m---------------------------------------------------------------------------\u001b[39m",
      "\u001b[31mTypeError\u001b[39m                                 Traceback (most recent call last)",
      "\u001b[36mCell\u001b[39m\u001b[36m \u001b[39m\u001b[32mIn[60]\u001b[39m\u001b[32m, line 11\u001b[39m\n\u001b[32m      9\u001b[39m tup=(\u001b[33m\"\u001b[39m\u001b[33mDarshan\u001b[39m\u001b[33m\"\u001b[39m,\u001b[32m15\u001b[39m,\u001b[38;5;28;01mTrue\u001b[39;00m,\u001b[33m\"\u001b[39m\u001b[33mPooja\u001b[39m\u001b[33m\"\u001b[39m,\u001b[33m\"\u001b[39m\u001b[33mRaghav\u001b[39m\u001b[33m\"\u001b[39m,\u001b[32m99.99\u001b[39m)  \u001b[38;5;66;03m#tuples is immutable\u001b[39;00m\n\u001b[32m     10\u001b[39m \u001b[38;5;28mprint\u001b[39m(\u001b[33mf\u001b[39m\u001b[33m\"\u001b[39m\u001b[33mOriginal tuples: \u001b[39m\u001b[38;5;132;01m{\u001b[39;00mtup\u001b[38;5;132;01m}\u001b[39;00m\u001b[38;5;130;01m\\n\u001b[39;00m\u001b[33m\"\u001b[39m)\n\u001b[32m---> \u001b[39m\u001b[32m11\u001b[39m \u001b[43mtup\u001b[49m\u001b[43m[\u001b[49m\u001b[32;43m1\u001b[39;49m\u001b[43m]\u001b[49m=\u001b[32m100\u001b[39m\n\u001b[32m     12\u001b[39m \u001b[38;5;28mprint\u001b[39m(\u001b[33mf\u001b[39m\u001b[33m\"\u001b[39m\u001b[33mModified tuples: \u001b[39m\u001b[38;5;132;01m{\u001b[39;00mlst\u001b[38;5;132;01m}\u001b[39;00m\u001b[33m\"\u001b[39m)    \u001b[38;5;66;03m#it will create error\u001b[39;00m\n",
      "\u001b[31mTypeError\u001b[39m: 'tuple' object does not support item assignment"
     ]
    }
   ],
   "source": [
    "#Create a list and tuple in Python, and demonstrate how attempting to change an element works differently for each\n",
    "lst=[1,2,4.5,True,\"Ajay\",\"Vijay\",False,True]   #list is mutable\n",
    "print(f\"Original list: {lst}\\n\")\n",
    "lst[3]=\"Data\"\n",
    "print(f\"Modified list: {lst}\\n\")\n",
    "\n",
    "tup=(\"Darshan\",15,True,\"Pooja\",\"Raghav\",99.99)  #tuples is immutable\n",
    "print(f\"Original tuples: {tup}\\n\")\n",
    "tup[1]=100\n",
    "print(f\"Modified tuples: {lst}\")    #it will create error"
   ]
  },
  {
   "cell_type": "code",
   "execution_count": null,
   "id": "2f413126-b5ee-486f-99e6-a0ec081bab98",
   "metadata": {},
   "outputs": [],
   "source": [
    "#Write a function to demonstrate the behavior of mutable and immutable arguments\n",
    "def fun(a,b):\n",
    "    print(f\"Valeu o\n",
    "    a+=5\n",
    "    b=(4)"
   ]
  },
  {
   "cell_type": "code",
   "execution_count": 89,
   "id": "3a21e574-8358-4986-ac77-d42a92eaf59a",
   "metadata": {},
   "outputs": [
    {
     "name": "stdout",
     "output_type": "stream",
     "text": [
      "\n",
      " Before function call:\n",
      "x= 5\n",
      "y= [1, 2, 3, 4]\n",
      "\n",
      " Inside function before modification:\n",
      "a= 5\n",
      "b= [1, 2, 3, 4]\n",
      "\n",
      " Inside function after modification:\n",
      "a= 15\n",
      "b= [1, 2, 3, 4, 100]\n",
      "\n",
      " After function call:\n",
      "x= 5\n",
      "y= [1, 2, 3, 4, 100]\n"
     ]
    }
   ],
   "source": [
    "def fun(a,b):\n",
    "    print(\"\\n Inside function before modification:\")\n",
    "    print(\"a=\",a)\n",
    "    print(\"b=\",b)\n",
    "    \n",
    "    a+=10    #immutable (int): new object is created\n",
    "    b.append(100)   # mutable (list): modifies the same object\n",
    "    \n",
    "    print(\"\\n Inside function after modification:\")\n",
    "    print(\"a=\",a)\n",
    "    print(\"b=\",b)\n",
    "    \n",
    "x=5\n",
    "y=[1,2,3,4]\n",
    "\n",
    "print(\"\\n Before function call:\")\n",
    "print(\"x=\",x)\n",
    "print(\"y=\",y)\n",
    "\n",
    "fun(x,y)\n",
    "\n",
    "print(\"\\n After function call:\")\n",
    "print(\"x=\",x)  #unchanged\n",
    "print(\"y=\",y)  #changed"
   ]
  },
  {
   "cell_type": "code",
   "execution_count": 94,
   "id": "fad45407-27a6-4423-8f47-af37f2318c81",
   "metadata": {},
   "outputs": [
    {
     "name": "stdin",
     "output_type": "stream",
     "text": [
      "Enter value of a 6\n",
      "Enter value of a 2\n"
     ]
    },
    {
     "name": "stdout",
     "output_type": "stream",
     "text": [
      "\n",
      " Addition: 8\n",
      "Subtraction: 4\n",
      "Multiplicat: 12\n",
      "Division: 3.0\n",
      "Square: 36\n"
     ]
    }
   ],
   "source": [
    "#Write a program that performs basic arithmetic operations on two user-input numbers\n",
    "a=int(input(\"Enter value of a\"))\n",
    "b=int(input(\"Enter value of a\"))\n",
    "\n",
    "print(\"\\n Addition:\",a+b)\n",
    "print(\"Subtraction:\",a-b)\n",
    "print(\"Multiplicat:\",a*b)\n",
    "print(\"Division:\",float(a/b))\n",
    "print(\"Square:\",a**b)"
   ]
  },
  {
   "cell_type": "code",
   "execution_count": 103,
   "id": "f3f29bde-fa14-410c-aef1-0cbbc54db00f",
   "metadata": {},
   "outputs": [
    {
     "name": "stdin",
     "output_type": "stream",
     "text": [
      "Enter your username admin\n",
      "Enter your password 122\n"
     ]
    },
    {
     "name": "stdout",
     "output_type": "stream",
     "text": [
      "Please a valid Details\n"
     ]
    }
   ],
   "source": [
    "#Write a program to demonstrate the use of logical operators.\n",
    "correct_usr=\"admin123\"\n",
    "correct_password=\"1234\"\n",
    "username=input(\"Enter your username\")\n",
    "password=input(\"Enter your password\")\n",
    "if((username==correct_usr) and (password==correct_password)):\n",
    "    print(\"LOGGED IN SUCCESSFULLY\")\n",
    "else:\n",
    "    print(\"Please enter a valid Details\")"
   ]
  },
  {
   "cell_type": "code",
   "execution_count": 105,
   "id": "d4465367-a911-41d8-8118-c3f3e6febcf0",
   "metadata": {},
   "outputs": [
    {
     "name": "stdin",
     "output_type": "stream",
     "text": [
      "Enter integer value: 123\n",
      "Enter float value: 2.5\n",
      "Enter boolean value: True\n"
     ]
    },
    {
     "name": "stdout",
     "output_type": "stream",
     "text": [
      "123\n",
      "2.5\n",
      "True\n"
     ]
    }
   ],
   "source": [
    "#Write a Python program to convert user input from string to integer, float, and boolean types\n",
    "def convert_into_integer(a):\n",
    "    print(int(a))\n",
    "def convert_into_float(b):\n",
    "    print(float(b))\n",
    "def convert_into_bool(c):\n",
    "    print(bool(c))\n",
    "\n",
    "a=input(\"Enter integer value:\")\n",
    "b=input(\"Enter float value:\")\n",
    "c=input(\"Enter boolean value:\")\n",
    "\n",
    "convert_into_integer(a)\n",
    "convert_into_float(b)\n",
    "convert_into_bool(c)"
   ]
  },
  {
   "cell_type": "code",
   "execution_count": 115,
   "id": "95104e97-a720-4832-b957-f00491e4d8e1",
   "metadata": {},
   "outputs": [
    {
     "name": "stdout",
     "output_type": "stream",
     "text": [
      "Original list:[1, 2, 3, 'Darshan', 'Raghav', True, 'Orange']\n",
      "New list:[1, False, 3, 2.5, 'Raghav', True, 'Orange']\n"
     ]
    }
   ],
   "source": [
    "#Write code to demonstrate type casting with list elements\n",
    "lst=[1,2,3,\"Darshan\",\"Raghav\",True,\"Orange\"]\n",
    "print(f\"Original list:{lst}\")\n",
    "lst[1]=False\n",
    "lst[3]=2.5\n",
    "print(f\"New list:{lst}\")"
   ]
  },
  {
   "cell_type": "code",
   "execution_count": 117,
   "id": "817d4f13-a89b-4d4f-b041-ff4fb494e085",
   "metadata": {},
   "outputs": [
    {
     "name": "stdin",
     "output_type": "stream",
     "text": [
      "Enter a number -2\n"
     ]
    },
    {
     "name": "stdout",
     "output_type": "stream",
     "text": [
      "The number is negaive\n"
     ]
    }
   ],
   "source": [
    "#Write a program that checks if a number is positive, negative, or zero\n",
    "a=int(input(\"Enter a number\"))\n",
    "if a>0:\n",
    "    print(\"The number is positive\")\n",
    "elif a==0:\n",
    "    print(\"The number is zero\")\n",
    "else:\n",
    "    print(\"The number is negaive\")"
   ]
  },
  {
   "cell_type": "code",
   "execution_count": 118,
   "id": "9822dbe0-1df4-4bc0-b477-d45d391b529a",
   "metadata": {},
   "outputs": [
    {
     "name": "stdout",
     "output_type": "stream",
     "text": [
      "0\n",
      "1\n",
      "2\n",
      "3\n",
      "4\n",
      "5\n",
      "6\n",
      "7\n",
      "8\n",
      "9\n",
      "10\n"
     ]
    }
   ],
   "source": [
    "#Write a for loop to print numbers from 1 to 10.\n",
    "for i in range(11):\n",
    "    print(i)\n"
   ]
  },
  {
   "cell_type": "code",
   "execution_count": 131,
   "id": "b57eda8b-eb95-4879-928d-8ed2f2a7e6dc",
   "metadata": {},
   "outputs": [
    {
     "name": "stdout",
     "output_type": "stream",
     "text": [
      "The sum of even numbers from 1 to 50 is: 650\n"
     ]
    }
   ],
   "source": [
    "#Write a Python program to find the sum of all even numbers between 1 and 50\n",
    "total=0\n",
    "for i in range(2,51,2):\n",
    "    total+=i\n",
    "print(\"The sum of even numbers from 1 to 50 is:\",total)"
   ]
  },
  {
   "cell_type": "code",
   "execution_count": 22,
   "id": "4f6dbe46-e120-4590-80f1-1645063f7b91",
   "metadata": {},
   "outputs": [
    {
     "name": "stdout",
     "output_type": "stream",
     "text": [
      "sllikswP"
     ]
    }
   ],
   "source": [
    "#Write a program to reverse a string using a while loop.\n",
    "a=\"Pwskills\"\n",
    "i=len(a)\n",
    "while i!=0:\n",
    "    i=i-1\n",
    "    print(a[i],end=\"\")"
   ]
  },
  {
   "cell_type": "code",
   "execution_count": 2,
   "id": "0c536731-2741-47ec-a857-4e8a6cdaf25b",
   "metadata": {},
   "outputs": [
    {
     "name": "stdin",
     "output_type": "stream",
     "text": [
      "Enter number 5\n"
     ]
    },
    {
     "name": "stdout",
     "output_type": "stream",
     "text": [
      "120\n"
     ]
    }
   ],
   "source": [
    "#Write a Python program to calculate the factorial of a number provided by the user using a while loop\n",
    "num=int(input(\"Enter number\"))\n",
    "f=1\n",
    "while num>0:\n",
    "    f=f*num\n",
    "    num=num-1\n",
    "print(f)"
   ]
  },
  {
   "cell_type": "code",
   "execution_count": null,
   "id": "c32ad893-7521-409c-bf07-7997eeb6f7fb",
   "metadata": {},
   "outputs": [],
   "source": []
  },
  {
   "cell_type": "code",
   "execution_count": null,
   "id": "89041b30-8617-4750-8f18-4390a3929239",
   "metadata": {},
   "outputs": [],
   "source": []
  }
 ],
 "metadata": {
  "kernelspec": {
   "display_name": "Python 3 (ipykernel)",
   "language": "python",
   "name": "python3"
  },
  "language_info": {
   "codemirror_mode": {
    "name": "ipython",
    "version": 3
   },
   "file_extension": ".py",
   "mimetype": "text/x-python",
   "name": "python",
   "nbconvert_exporter": "python",
   "pygments_lexer": "ipython3",
   "version": "3.13.3"
  }
 },
 "nbformat": 4,
 "nbformat_minor": 5
}
