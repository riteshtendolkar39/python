{
 "cells": [
  {
   "cell_type": "markdown",
   "id": "05eb692d",
   "metadata": {},
   "source": [
    "# How do you create a 2D NumPy array and calculate the sum of each row?"
   ]
  },
  {
   "cell_type": "code",
   "execution_count": null,
   "id": "6922d466",
   "metadata": {},
   "outputs": [],
   "source": [
    "import numpy as np\n",
    "arr = np.array([[1, 2, 3], [4, 5, 6]])\n",
    "row_sums = arr.sum(axis=1)\n",
    "print(\"Row sums:\", row_sums)"
   ]
  },
  {
   "cell_type": "markdown",
   "id": "a79d2237",
   "metadata": {},
   "source": [
    "# Write a Pandas script to find the mean of a specific column in a DataFrame."
   ]
  },
  {
   "cell_type": "code",
   "execution_count": null,
   "id": "0a005e52",
   "metadata": {},
   "outputs": [],
   "source": [
    "import pandas as pd\n",
    "df = pd.DataFrame({'A': [1, 2, 3], 'B': [4, 5, 6]})\n",
    "mean_a = df['A'].mean()\n",
    "print(\"Mean of column A:\", mean_a)"
   ]
  },
  {
   "cell_type": "markdown",
   "id": "b9961e5f",
   "metadata": {},
   "source": [
    "# Create a scatter plot using Matplotlib."
   ]
  },
  {
   "cell_type": "code",
   "execution_count": null,
   "id": "d3bfa97f",
   "metadata": {},
   "outputs": [],
   "source": [
    "import matplotlib.pyplot as plt\n",
    "x = [1, 2, 3, 4]\n",
    "y = [10, 20, 25, 30]\n",
    "plt.scatter(x, y)\n",
    "plt.title('Scatter Plot')\n",
    "plt.xlabel('X-axis')\n",
    "plt.ylabel('Y-axis')\n",
    "plt.show()"
   ]
  },
  {
   "cell_type": "markdown",
   "id": "529557d5",
   "metadata": {},
   "source": [
    "# How do you calculate the correlation matrix using Seaborn and visualize it with a heatmap?"
   ]
  },
  {
   "cell_type": "code",
   "execution_count": null,
   "id": "69e04d67",
   "metadata": {},
   "outputs": [],
   "source": [
    "import seaborn as sns\n",
    "import pandas as pd\n",
    "import numpy as np\n",
    "data = pd.DataFrame(np.random.rand(5, 5), columns=list('ABCDE'))\n",
    "corr = data.corr()\n",
    "sns.heatmap(corr, annot=True, cmap='coolwarm')"
   ]
  },
  {
   "cell_type": "markdown",
   "id": "8c2a4e2c",
   "metadata": {},
   "source": [
    "# Generate a bar plot using Plotly."
   ]
  },
  {
   "cell_type": "code",
   "execution_count": null,
   "id": "c21132b9",
   "metadata": {},
   "outputs": [],
   "source": [
    "import plotly.express as px\n",
    "data = {'Fruits': ['Apples', 'Oranges', 'Bananas'], 'Count': [10, 15, 7]}\n",
    "fig = px.bar(data, x='Fruits', y='Count')\n",
    "fig.show()"
   ]
  },
  {
   "cell_type": "markdown",
   "id": "a17e0786",
   "metadata": {},
   "source": [
    "# Create a DataFrame and add a new column based on an existing column."
   ]
  },
  {
   "cell_type": "code",
   "execution_count": null,
   "id": "c6247907",
   "metadata": {},
   "outputs": [],
   "source": [
    "import pandas as pd\n",
    "df = pd.DataFrame({'A': [1, 2, 3]})\n",
    "df['B'] = df['A'] * 2\n",
    "print(df)"
   ]
  },
  {
   "cell_type": "markdown",
   "id": "2fc19237",
   "metadata": {},
   "source": [
    "# Write a program to perform element-wise multiplication of two NumPy arrays."
   ]
  },
  {
   "cell_type": "code",
   "execution_count": null,
   "id": "5227f084",
   "metadata": {},
   "outputs": [],
   "source": [
    "import numpy as np\n",
    "a = np.array([1, 2, 3])\n",
    "b = np.array([4, 5, 6])\n",
    "result = a * b\n",
    "print(\"Element-wise multiplication:\", result)"
   ]
  },
  {
   "cell_type": "markdown",
   "id": "866c264e",
   "metadata": {},
   "source": [
    "# Create a line plot with multiple lines using Matplotlib."
   ]
  },
  {
   "cell_type": "code",
   "execution_count": null,
   "id": "4da19c7b",
   "metadata": {},
   "outputs": [],
   "source": [
    "import matplotlib.pyplot as plt\n",
    "x = [1, 2, 3]\n",
    "y1 = [2, 4, 1]\n",
    "y2 = [3, 5, 2]\n",
    "plt.plot(x, y1, label='Line 1')\n",
    "plt.plot(x, y2, label='Line 2')\n",
    "plt.legend()\n",
    "plt.show()"
   ]
  },
  {
   "cell_type": "markdown",
   "id": "444753aa",
   "metadata": {},
   "source": [
    "# Generate a Pandas DataFrame and filter rows where a column value is greater than a threshold."
   ]
  },
  {
   "cell_type": "code",
   "execution_count": null,
   "id": "f392dc7b",
   "metadata": {},
   "outputs": [],
   "source": [
    "import pandas as pd\n",
    "df = pd.DataFrame({'A': [1, 5, 3, 10]})\n",
    "filtered_df = df[df['A'] > 4]\n",
    "print(filtered_df)"
   ]
  },
  {
   "cell_type": "markdown",
   "id": "c89646bb",
   "metadata": {},
   "source": [
    "# Create a histogram using Seaborn to visualize a distribution."
   ]
  },
  {
   "cell_type": "code",
   "execution_count": null,
   "id": "b6f2269d",
   "metadata": {},
   "outputs": [],
   "source": [
    "import seaborn as sns\n",
    "import numpy as np\n",
    "data = np.random.randn(100)\n",
    "sns.histplot(data, kde=True)"
   ]
  },
  {
   "cell_type": "markdown",
   "id": "af102f3c",
   "metadata": {},
   "source": [
    "# Perform matrix multiplication using NumPy."
   ]
  },
  {
   "cell_type": "code",
   "execution_count": null,
   "id": "7f20e2af",
   "metadata": {},
   "outputs": [],
   "source": [
    "import numpy as np\n",
    "a = np.array([[1, 2], [3, 4]])\n",
    "b = np.array([[2, 0], [1, 2]])\n",
    "result = np.matmul(a, b)\n",
    "print(\"Matrix multiplication result:\\n\", result)"
   ]
  },
  {
   "cell_type": "markdown",
   "id": "3a14cbd9",
   "metadata": {},
   "source": [
    "# Use Pandas to load a CSV file and display its first 5 rows."
   ]
  },
  {
   "cell_type": "code",
   "execution_count": null,
   "id": "2828f60a",
   "metadata": {},
   "outputs": [],
   "source": [
    "import pandas as pd\n",
    "# Assuming 'file.csv' exists in the working directory\n",
    "df = pd.read_csv('file.csv')\n",
    "print(df.head())"
   ]
  },
  {
   "cell_type": "markdown",
   "id": "bcd3112c",
   "metadata": {},
   "source": [
    "# Create a 3D scatter plot using Plotly."
   ]
  },
  {
   "cell_type": "code",
   "execution_count": null,
   "id": "a80b057a",
   "metadata": {},
   "outputs": [],
   "source": [
    "import plotly.express as px\n",
    "import pandas as pd\n",
    "import numpy as np\n",
    "df = pd.DataFrame({\n",
    "    'x': np.random.rand(50),\n",
    "    'y': np.random.rand(50),\n",
    "    'z': np.random.rand(50)\n",
    "})\n",
    "fig = px.scatter_3d(df, x='x', y='y', z='z')\n",
    "fig.show()"
   ]
  }
 ],
 "metadata": {
  "kernelspec": {
   "display_name": "Python 3 (ipykernel)",
   "language": "python",
   "name": "python3"
  },
  "language_info": {
   "codemirror_mode": {
    "name": "ipython",
    "version": 3
   },
   "file_extension": ".py",
   "mimetype": "text/x-python",
   "name": "python",
   "nbconvert_exporter": "python",
   "pygments_lexer": "ipython3",
   "version": "3.13.3"
  }
 },
 "nbformat": 4,
 "nbformat_minor": 5
}
