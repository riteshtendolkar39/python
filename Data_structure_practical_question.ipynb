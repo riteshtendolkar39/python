{
 "cells": [
  {
   "cell_type": "code",
   "execution_count": 1,
   "id": "c6d4c89c-a634-46d0-b659-231549f56310",
   "metadata": {},
   "outputs": [
    {
     "name": "stdout",
     "output_type": "stream",
     "text": [
      "My name is Ritesh\n"
     ]
    }
   ],
   "source": [
    "#Write a code to create a string with your name and print it\n",
    "string=\"Ritesh\"\n",
    "print(f\"My name is {string}\")"
   ]
  },
  {
   "cell_type": "code",
   "execution_count": 2,
   "id": "f05c1eee-defd-4b13-905d-a67a0f0cc186",
   "metadata": {},
   "outputs": [
    {
     "data": {
      "text/plain": [
       "11"
      ]
     },
     "execution_count": 2,
     "metadata": {},
     "output_type": "execute_result"
    }
   ],
   "source": [
    "#Write a code to find the length of the string \"Hello World\"\n",
    "string=\"Hello World\"\n",
    "len(string)"
   ]
  },
  {
   "cell_type": "code",
   "execution_count": 5,
   "id": "f9c831dc-20d6-4629-8cce-f30cb3525ad7",
   "metadata": {},
   "outputs": [
    {
     "data": {
      "text/plain": [
       "'Pyt'"
      ]
     },
     "execution_count": 5,
     "metadata": {},
     "output_type": "execute_result"
    }
   ],
   "source": [
    "#Write a code to slice the first 3 characters from the string \"Python Programming\"\n",
    "string=\"Python Programming\"\n",
    "string[0:3]"
   ]
  },
  {
   "cell_type": "code",
   "execution_count": 6,
   "id": "e9f6ab9e-fe79-47f4-b550-bea1ec84c718",
   "metadata": {},
   "outputs": [
    {
     "data": {
      "text/plain": [
       "'HELLO'"
      ]
     },
     "execution_count": 6,
     "metadata": {},
     "output_type": "execute_result"
    }
   ],
   "source": [
    "#Write a code to convert the string \"hello\" to uppercase\n",
    "string=\"hello\"\n",
    "string.upper()"
   ]
  },
  {
   "cell_type": "code",
   "execution_count": 9,
   "id": "8dacd77d-d582-4226-9014-a62122b517ea",
   "metadata": {},
   "outputs": [
    {
     "data": {
      "text/plain": [
       "'I like orange'"
      ]
     },
     "execution_count": 9,
     "metadata": {},
     "output_type": "execute_result"
    }
   ],
   "source": [
    "#Write a code to replace the word \"apple\" with \"orange\" in the string \"I like apple\"\n",
    "string=\"I like apple\"\n",
    "string.replace('apple','orange')"
   ]
  },
  {
   "cell_type": "code",
   "execution_count": 10,
   "id": "b78b53c8-e4e7-4b15-97e5-a1e00ecf4c1f",
   "metadata": {},
   "outputs": [
    {
     "name": "stdout",
     "output_type": "stream",
     "text": [
      "[1, 2, 3, 4, 5]\n"
     ]
    }
   ],
   "source": [
    "#Write a code to create a list with numbers 1 to 5 and print it\n",
    "list=[1,2,3,4,5]\n",
    "print(list)"
   ]
  },
  {
   "cell_type": "code",
   "execution_count": 11,
   "id": "e195079a-83a3-4f43-b47d-6fe9d8c6d557",
   "metadata": {},
   "outputs": [
    {
     "name": "stdout",
     "output_type": "stream",
     "text": [
      "[1, 2, 3, 4, 10]\n"
     ]
    }
   ],
   "source": [
    "#Write a code to append the number 10 to the list [1, 2, 3, 4]\n",
    "list=[1,2,3,4]\n",
    "list.append(10)\n",
    "print(list)"
   ]
  },
  {
   "cell_type": "code",
   "execution_count": 12,
   "id": "3655ab40-7532-4257-9184-eb7660eb5043",
   "metadata": {},
   "outputs": [
    {
     "name": "stdout",
     "output_type": "stream",
     "text": [
      "[1, 2, 4]\n"
     ]
    }
   ],
   "source": [
    "#Write a code to remove the number 3 from the list [1, 2, 3, 4, 5]\n",
    "list=[1,2,3,4]\n",
    "list.remove(3)\n",
    "print(list)"
   ]
  },
  {
   "cell_type": "code",
   "execution_count": 15,
   "id": "0be4641a-8366-46e7-9c60-0bda33cb33fc",
   "metadata": {},
   "outputs": [
    {
     "name": "stdout",
     "output_type": "stream",
     "text": [
      "b\n"
     ]
    }
   ],
   "source": [
    "#Write a code to access the second element in the list ['a', 'b', 'c', 'd']\n",
    "list=['a', 'b', 'c', 'd']\n",
    "second_element=list[1]\n",
    "print(second_element)"
   ]
  },
  {
   "cell_type": "code",
   "execution_count": 14,
   "id": "15cea007-b86d-4a08-8b59-10fef2960b3f",
   "metadata": {},
   "outputs": [
    {
     "data": {
      "text/plain": [
       "[50, 40, 30, 20, 10]"
      ]
     },
     "execution_count": 14,
     "metadata": {},
     "output_type": "execute_result"
    }
   ],
   "source": [
    "#Write a code to reverse the list [10, 20, 30, 40, 50]\n",
    "lst=[10,20,30,40,50]\n",
    "lst[::-1]"
   ]
  },
  {
   "cell_type": "code",
   "execution_count": 15,
   "id": "03aecdcb-6d49-402a-aa9b-e63db8e2c93d",
   "metadata": {},
   "outputs": [
    {
     "name": "stdout",
     "output_type": "stream",
     "text": [
      "(100, 200, 300)\n"
     ]
    }
   ],
   "source": [
    "# Write a code to create a tuple with the elements 100, 200, 300 and print it\n",
    "tup=(100,200,300)\n",
    "print(tup)"
   ]
  },
  {
   "cell_type": "code",
   "execution_count": 17,
   "id": "37407e34-6500-439c-9caf-b72288af8899",
   "metadata": {},
   "outputs": [
    {
     "data": {
      "text/plain": [
       "('green', 'blue', 'yellow')"
      ]
     },
     "execution_count": 17,
     "metadata": {},
     "output_type": "execute_result"
    }
   ],
   "source": [
    "#Write a code to access the second-to-last element of the tuple ('red', 'green', 'blue', 'yellow')\n",
    "tup=('red','green','blue','yellow')\n",
    "tup[1:]"
   ]
  },
  {
   "cell_type": "code",
   "execution_count": 19,
   "id": "8bbb78bf-6202-4479-8d9a-b985037b64f3",
   "metadata": {},
   "outputs": [
    {
     "data": {
      "text/plain": [
       "5"
      ]
     },
     "execution_count": 19,
     "metadata": {},
     "output_type": "execute_result"
    }
   ],
   "source": [
    "#Write a code to find the minimum number in the tuple (10, 20, 5, 15)\n",
    "tup=(10,20,5,15)\n",
    "min(tup)"
   ]
  },
  {
   "cell_type": "code",
   "execution_count": 22,
   "id": "174b0027-ac35-4a87-ba3e-ea4c89d22342",
   "metadata": {},
   "outputs": [
    {
     "data": {
      "text/plain": [
       "1"
      ]
     },
     "execution_count": 22,
     "metadata": {},
     "output_type": "execute_result"
    }
   ],
   "source": [
    "#Write a code to find the index of the element \"cat\" in the tuple ('dog', 'cat', 'rabbit')\n",
    "tup=('dog','cat','rabbit')\n",
    "tup.index('cat')"
   ]
  },
  {
   "cell_type": "code",
   "execution_count": 25,
   "id": "d978ddd9-171d-4fa5-98ca-cb58b0c58950",
   "metadata": {},
   "outputs": [
    {
     "name": "stdout",
     "output_type": "stream",
     "text": [
      "Kiwi is present\n"
     ]
    }
   ],
   "source": [
    "#Write a code to create a tuple containing three different fruits and check if \"kiwi\" is in it\n",
    "tup=('mango','kiwi','orange')\n",
    "if 'kiwi' in tup:\n",
    "    print('Kiwi is present')\n",
    "else:\n",
    "    print('Kiwi is not present')\n"
   ]
  },
  {
   "cell_type": "code",
   "execution_count": 26,
   "id": "bfb23b7e-8506-4595-bb06-5c0f24809a9f",
   "metadata": {},
   "outputs": [
    {
     "name": "stdout",
     "output_type": "stream",
     "text": [
      "{'a', 'b', 'c'}\n"
     ]
    }
   ],
   "source": [
    "# Write a code to create a set with the elements 'a', 'b', 'c' and print it\n",
    "s={'a','b','c'}\n",
    "print(s)"
   ]
  },
  {
   "cell_type": "code",
   "execution_count": 28,
   "id": "537f12e6-1bb3-4dbe-954e-fb63315541de",
   "metadata": {},
   "outputs": [
    {
     "name": "stdout",
     "output_type": "stream",
     "text": [
      "set()\n"
     ]
    }
   ],
   "source": [
    "#Write a code to clear all elements from the set {1, 2, 3, 4, 5}\n",
    "s={1,2,3,4,5}\n",
    "s.clear()\n",
    "print(s)"
   ]
  },
  {
   "cell_type": "code",
   "execution_count": 30,
   "id": "05751bc5-4580-4dda-b42f-00c98155be45",
   "metadata": {},
   "outputs": [
    {
     "name": "stdout",
     "output_type": "stream",
     "text": [
      "{1, 2, 3}\n"
     ]
    }
   ],
   "source": [
    "#Write a code to remove the element 4 from the set {1, 2, 3, 4}\n",
    "set={1,2,3,4}\n",
    "set.discard(4)\n",
    "print(set)"
   ]
  },
  {
   "cell_type": "code",
   "execution_count": 32,
   "id": "c742e577-b51f-4786-88cc-8d3f88e07869",
   "metadata": {},
   "outputs": [
    {
     "name": "stdout",
     "output_type": "stream",
     "text": [
      "{1, 2, 3, 4, 5}\n"
     ]
    }
   ],
   "source": [
    "#Write a code to find the union of two sets {1, 2, 3} and {3, 4, 5}\n",
    "s1={1,2,3}\n",
    "s2={3,4,5}\n",
    "union=s1 | s2\n",
    "print(union)"
   ]
  },
  {
   "cell_type": "code",
   "execution_count": 34,
   "id": "cf3f69c6-f5cd-4e23-9aca-2b2e0e05ffac",
   "metadata": {},
   "outputs": [
    {
     "name": "stdout",
     "output_type": "stream",
     "text": [
      "{2, 3}\n"
     ]
    }
   ],
   "source": [
    "#Write a code to find the intersection of two sets {1, 2, 3} and {2, 3, 4}\n",
    "s1={1,2,3}\n",
    "s2={2,3,4}\n",
    "intersection=s1 & s2\n",
    "print(intersection)"
   ]
  },
  {
   "cell_type": "code",
   "execution_count": 35,
   "id": "1b375bc7-2245-426f-828e-1ac75eaecedc",
   "metadata": {},
   "outputs": [
    {
     "name": "stdout",
     "output_type": "stream",
     "text": [
      "{'name': 'Ram', 'age': 19, 'city': 'Ayodhya'}\n"
     ]
    }
   ],
   "source": [
    "#Write a code to create a dictionary with the keys \"name\", \"age\", and \"city\", and print it\n",
    "dic={'name':'Ram','age':19,'city':'Ayodhya'}\n",
    "print(dic)"
   ]
  },
  {
   "cell_type": "code",
   "execution_count": 36,
   "id": "5f67081c-900c-4fdc-a357-07545180f587",
   "metadata": {},
   "outputs": [
    {
     "name": "stdout",
     "output_type": "stream",
     "text": [
      "{'name': 'John', 'age': 25, 'country': 'USA'}\n"
     ]
    }
   ],
   "source": [
    "#Write a code to add a new key-value pair \"country\": \"USA\" to the dictionary {'name': 'John', 'age': 25}\n",
    "dic={'name':'John','age':25}\n",
    "dic['country']=\"USA\"\n",
    "print(dic)"
   ]
  },
  {
   "cell_type": "code",
   "execution_count": 37,
   "id": "8a8e6b59-dabe-463c-82b3-65eaf8e09c1c",
   "metadata": {},
   "outputs": [
    {
     "name": "stdout",
     "output_type": "stream",
     "text": [
      "Alice\n"
     ]
    }
   ],
   "source": [
    "#Write a code to access the value associated with the key \"name\" in the dictionary {'name': 'Alice', 'age': 30}\n",
    "dic={'name':'Alice','age':30}\n",
    "name=dic['name']\n",
    "print(name)"
   ]
  },
  {
   "cell_type": "code",
   "execution_count": 41,
   "id": "24f3a4ed-84f5-438e-a4f1-7d6f2f791f6a",
   "metadata": {},
   "outputs": [
    {
     "name": "stdout",
     "output_type": "stream",
     "text": [
      "{'name': 'Bob', 'city': 'New York'}\n"
     ]
    }
   ],
   "source": [
    "#Write a code to remove the key \"age\" from the dictionary {'name': 'Bob', 'age': 22, 'city': 'New York'}\n",
    "dic={'name':'Bob','age':22,'city':'New York'}\n",
    "del dic['age']\n",
    "print(dic)"
   ]
  },
  {
   "cell_type": "code",
   "execution_count": 43,
   "id": "79a8659a-12af-48d6-831a-617bf9508873",
   "metadata": {},
   "outputs": [
    {
     "name": "stdout",
     "output_type": "stream",
     "text": [
      "City exist in the dictionary\n"
     ]
    }
   ],
   "source": [
    "# Write a code to check if the key \"city\" exists in the dictionary {'name': 'Alice', 'city': 'Paris'}\n",
    "dic={'name':'Alic','city':'Paris'}\n",
    "if 'city' in dic:\n",
    "    print(\"City exist in the dictionary\")\n",
    "else:\n",
    "    print(\"City is empty in dictionary\")"
   ]
  },
  {
   "cell_type": "code",
   "execution_count": 49,
   "id": "28c5e401-af38-4ca8-b031-80b6e4e3a0e0",
   "metadata": {},
   "outputs": [
    {
     "name": "stdout",
     "output_type": "stream",
     "text": [
      "List: ['Php', 'Data structure', 'Python', 'Java']\n",
      "Tuple: (100, 200, 300, 400)\n",
      "Dictionary: {'Php': 100, 'Data structure': 200, 'Python': 300, 'Java': 400}\n"
     ]
    }
   ],
   "source": [
    "#Write a code to create a list, a tuple, and a dictionary, and print them all\n",
    "book_list=['Php','Data structure','Python','Java']\n",
    "print(f\"List: {book_list}\")\n",
    "\n",
    "book_price=(100,200,300,400)\n",
    "print(f\"Tuple: {book_price}\")\n",
    "\n",
    "book_price={'Php':100,'Data structure':200,'Python':300,'Java':400}\n",
    "print(f\"Dictionary: {book_price}\")"
   ]
  },
  {
   "cell_type": "code",
   "execution_count": 58,
   "id": "34723106-f5f5-4f4c-aa83-5d909e2429be",
   "metadata": {},
   "outputs": [
    {
     "name": "stdout",
     "output_type": "stream",
     "text": [
      "Before sorting: [1, 20, 7, 9, 56]\n",
      "After sorting: [1, 7, 9, 20, 56]\n"
     ]
    }
   ],
   "source": [
    "# Write a code to create a list of 5 random numbers between 1 and 100, sort it in ascending order, and print the result\n",
    "import random\n",
    "\n",
    "#creating a list of 5 random numbers from 1 to 100\n",
    "random_list=[random.randint(1,100) for _ in range(5)]\n",
    "\n",
    "#Before sorting\n",
    "print(f\"Before sorting: {random_list}\")\n",
    "\n",
    "#sorting numbers in ascending order\n",
    "random_list.sort()\n",
    "\n",
    "#printing the sorted list\n",
    "print(f\"After sorting: {random_list}\")"
   ]
  },
  {
   "cell_type": "code",
   "execution_count": 59,
   "id": "3d705924-b980-4372-a388-9e0e2be42814",
   "metadata": {},
   "outputs": [
    {
     "name": "stdout",
     "output_type": "stream",
     "text": [
      "Sujal\n"
     ]
    }
   ],
   "source": [
    "#Write a code to create a list with strings and print the element at the third index\n",
    "lst=['Ajay','Sanjay','Ronak','Sujal','Hariom','Badal']\n",
    "third_index_element=lst[3]\n",
    "print(third_index_element)"
   ]
  },
  {
   "cell_type": "code",
   "execution_count": 18,
   "id": "7e88a66c-c8dc-49ef-8f09-5d677707621a",
   "metadata": {},
   "outputs": [
    {
     "name": "stdout",
     "output_type": "stream",
     "text": [
      "{'name': 'Ronak', 'age': 19, 'city': 'Mumbai', 'contact': 123492}\n"
     ]
    }
   ],
   "source": [
    "#Write a code to combine two dictionaries into one and print the result\n",
    "dic1={'name':'Ronak','age':19}\n",
    "dic2={'city':'Mumbai','contact':123492}\n",
    "combined_dic2=dic1 | dic2\n",
    "print(combined_dic2)"
   ]
  },
  {
   "cell_type": "code",
   "execution_count": 15,
   "id": "6a3455c3-55e2-48df-a955-b0cc463e8aef",
   "metadata": {},
   "outputs": [
    {
     "name": "stdout",
     "output_type": "stream",
     "text": [
      "{'Orange', 'Pen', 'Bottle', 'Mango'}\n"
     ]
    }
   ],
   "source": [
    "#Write a code to convert a list of strings into a set\n",
    "lst=['Orange','Pen','Mango','Bottle']\n",
    "conversion_into_set=set(lst)\n",
    "print(conversion_into_set)"
   ]
  },
  {
   "cell_type": "code",
   "execution_count": null,
   "id": "c8970190-26ac-4da4-b169-ce0bc804b1d4",
   "metadata": {},
   "outputs": [],
   "source": []
  }
 ],
 "metadata": {
  "kernelspec": {
   "display_name": "Python 3 (ipykernel)",
   "language": "python",
   "name": "python3"
  },
  "language_info": {
   "codemirror_mode": {
    "name": "ipython",
    "version": 3
   },
   "file_extension": ".py",
   "mimetype": "text/x-python",
   "name": "python",
   "nbconvert_exporter": "python",
   "pygments_lexer": "ipython3",
   "version": "3.13.3"
  }
 },
 "nbformat": 4,
 "nbformat_minor": 5
}
