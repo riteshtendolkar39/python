{
 "cells": [
  {
   "cell_type": "raw",
   "id": "45ac5077-0417-4d5d-9cfb-c56d806b91c8",
   "metadata": {},
   "source": [
    "1. What is Python, and why is it popular ?\n",
    "- Python is a programming language, a way to communicate with computers. Python is popular because of easy to learn, easy to use, simplicity, versatiliy, good ecosystem of libraries."
   ]
  },
  {
   "cell_type": "raw",
   "id": "0f4ef61b-fd63-4d51-8616-db7e7381110b",
   "metadata": {},
   "source": [
    "2. What is an interpreter in Python ?\n",
    "- In python interpreter read and execute code line by line."
   ]
  },
  {
   "cell_type": "raw",
   "id": "344ecceb-e862-43ac-ae61-2e833904635d",
   "metadata": {},
   "source": [
    "3. What are pre-defined keywords in Python ?\n",
    "- Keywords are reserved words in python that have special meaning a specific purpose. example: if, else, def, import,break, etc."
   ]
  },
  {
   "cell_type": "raw",
   "id": "c15120a4-d1c7-4315-84bb-60a5b544685f",
   "metadata": {},
   "source": [
    "4. Can keywords be used as variable names ?\n",
    "- They cannot be used as variables."
   ]
  },
  {
   "cell_type": "code",
   "execution_count": 6,
   "id": "58cead78-8c27-41d5-866a-34e52ed906ff",
   "metadata": {},
   "outputs": [
    {
     "ename": "TypeError",
     "evalue": "'str' object is not callable",
     "output_type": "error",
     "traceback": [
      "\u001b[31m---------------------------------------------------------------------------\u001b[39m",
      "\u001b[31mTypeError\u001b[39m                                 Traceback (most recent call last)",
      "\u001b[36mCell\u001b[39m\u001b[36m \u001b[39m\u001b[32mIn[6]\u001b[39m\u001b[32m, line 3\u001b[39m\n\u001b[32m      1\u001b[39m \u001b[38;5;66;03m#example of keywords used as variable name\u001b[39;00m\n\u001b[32m      2\u001b[39m \u001b[38;5;28mprint\u001b[39m=\u001b[33m\"\u001b[39m\u001b[33mHello World\u001b[39m\u001b[33m\"\u001b[39m\n\u001b[32m----> \u001b[39m\u001b[32m3\u001b[39m \u001b[38;5;28;43mprint\u001b[39;49m\u001b[43m(\u001b[49m\u001b[38;5;28;43mprint\u001b[39;49m\u001b[43m)\u001b[49m\n",
      "\u001b[31mTypeError\u001b[39m: 'str' object is not callable"
     ]
    }
   ],
   "source": [
    "#example of keywords used as variable name\n",
    "print=\"Hello World\"\n",
    "print(print)"
   ]
  },
  {
   "cell_type": "raw",
   "id": "e975a7c6-1866-41b9-8eb5-ff63edd108b1",
   "metadata": {},
   "source": [
    "5. What is mutability in Python ?\n",
    "- In python container whose values can be changed after they are created are called as mutable objects."
   ]
  },
  {
   "cell_type": "code",
   "execution_count": 1,
   "id": "517a461e-bb66-4460-961b-5307505c8340",
   "metadata": {},
   "outputs": [
    {
     "name": "stdout",
     "output_type": "stream",
     "text": [
      "[1, 2, 'Ajay', 'Data']\n",
      "[1, 2, 'Valmiki', 'Data']\n"
     ]
    }
   ],
   "source": [
    "#example of mutability\n",
    "lst=[1,2,\"Ajay\",\"Data\"]\n",
    "print(lst)\n",
    "lst[2]=\"Valmiki\"\n",
    "print(lst)"
   ]
  },
  {
   "cell_type": "raw",
   "id": "f5ee69aa-9d5b-45c0-ab62-1758f282e650",
   "metadata": {},
   "source": [
    "6. Why are lists mutable, but tuples are immutable ?\n",
    "- Lists are mutable because you might need to change, add, or remove items later — they are meant to be flexible.\n",
    "- Tuples are immutable because they are used to protect data — once created, they stay the same for safety, speed, and reliability."
   ]
  },
  {
   "cell_type": "raw",
   "id": "9605b13d-fbd4-4e31-ba62-f07aa1afa844",
   "metadata": {},
   "source": [
    "7. What is the difference between “==” and “is” operators in Python ?\n",
    "- \"==\" checks values are same while \"is\" compare memory location of two object. "
   ]
  },
  {
   "cell_type": "code",
   "execution_count": 3,
   "id": "2a70583c-9b6c-4a0a-a441-6bda47e7a714",
   "metadata": {},
   "outputs": [
    {
     "name": "stdout",
     "output_type": "stream",
     "text": [
      "True\n",
      "False\n"
     ]
    }
   ],
   "source": [
    "#example of \"==\" and \"is\"\n",
    "a=[1,2,3]\n",
    "b=[1,2,3]\n",
    "print(a==b)\n",
    "print(a is b)"
   ]
  },
  {
   "cell_type": "raw",
   "id": "3e6c1663-4f38-402e-9ea6-9d988d425d75",
   "metadata": {},
   "source": [
    "8. What are logical operators in Python \n",
    "- A logical operator in Python is used to combine conditions (True/False) and make decisions.\n",
    "operators are as follows: and(both condition must be true)\n",
    "or(either or both condition can be true)\n",
    "not(reverse true / false)"
   ]
  },
  {
   "cell_type": "raw",
   "id": "aafdc674-0711-4bd7-9e9a-7f6188f7468a",
   "metadata": {},
   "source": [
    "9. What is type casting in Python ?\n",
    "- Type casting or type conversion converting one data type into another. There are of two types(implicit and explicit)\n",
    "In python declaration of any data type is not necessary, python itself declare data type it is implicit.\n",
    "In explicit you do manually."
   ]
  },
  {
   "cell_type": "code",
   "execution_count": 2,
   "id": "efe5c9f7-2b40-49a4-8282-8e292edc7f78",
   "metadata": {},
   "outputs": [
    {
     "name": "stdout",
     "output_type": "stream",
     "text": [
      "<class 'int'>\n",
      "<class 'int'>\n"
     ]
    }
   ],
   "source": [
    "#example of implicit and explicit\n",
    "a=2\n",
    "b=\"5\"\n",
    "result=a+int(b)\n",
    "print(type(a)) # implicit type casting\n",
    "print(type(result)) #explicit type casting"
   ]
  },
  {
   "cell_type": "raw",
   "id": "cef34104-f3b5-4cb9-b1b9-0a0ba3ec48a1",
   "metadata": {},
   "source": [
    "10. What is the difference between implicit and explicit type casting ?\n",
    "- Implicit (done by python automatically) and explicit (done manually)"
   ]
  },
  {
   "cell_type": "raw",
   "id": "b51918ac-be8c-4199-9de0-ed3c3ba2ec9c",
   "metadata": {},
   "source": [
    "11. What is the purpose of conditional statements in Python ?\n",
    "- Conditional statements are used to make decision and run different code based on whether a condition is true or false."
   ]
  },
  {
   "cell_type": "markdown",
   "id": "40926c18-1b0c-4736-a983-407f92d4752b",
   "metadata": {},
   "source": [
    "12. How does the elif statement work ?"
   ]
  },
  {
   "cell_type": "code",
   "execution_count": 3,
   "id": "faa70a1e-e2fc-4a0c-a01d-47d8de1cd5ab",
   "metadata": {},
   "outputs": [
    {
     "name": "stdout",
     "output_type": "stream",
     "text": [
      "You are eligible for driving license\n"
     ]
    }
   ],
   "source": [
    "#example of how elif works\n",
    "age=19\n",
    "if (17<=age<18):\n",
    "    print(\"You are eligible for learner license\")\n",
    "elif age>=18:   #if this statement is true then block of code will be executed\n",
    "    print(\"You are eligible for driving license\")\n",
    "else:\n",
    "    print(\"You are not eligible\")\n"
   ]
  },
  {
   "cell_type": "raw",
   "id": "1313ec08-cc69-4f06-b822-86369b0f8640",
   "metadata": {},
   "source": [
    "13. What is the difference between for and while loops ?\n",
    "- \"for\" loop is used to iterate list, etc. \n",
    "\"while\" loop iterate until condition is met"
   ]
  },
  {
   "cell_type": "raw",
   "id": "74cf0dd4-491d-4047-83d9-522b80346d91",
   "metadata": {},
   "source": [
    "14. Describe a scenario where a while loop is more suitable than a for loop?\n",
    "- A while loop is ideal when you don't know how many times you need to loop, but want to repeat until a condition is met, like asking for valid input until the user provides a correct response."
   ]
  },
  {
   "cell_type": "code",
   "execution_count": 7,
   "id": "aa8fadb8-4f37-4ea6-ad3d-ea8528040119",
   "metadata": {},
   "outputs": [
    {
     "name": "stdin",
     "output_type": "stream",
     "text": [
      "Please enter your age (between 0 and 120):  -2\n",
      "Please enter your age (between 0 and 120):  19\n"
     ]
    },
    {
     "name": "stdout",
     "output_type": "stream",
     "text": [
      "Your age is: 19\n"
     ]
    }
   ],
   "source": [
    "#example of question number 14\n",
    "age = -1\n",
    "while age < 0 or age > 120:  # Keep looping until the age is within a valid range\n",
    "    age = int(input(\"Please enter your age (between 0 and 120): \"))\n",
    "print(f\"Your age is: {age}\")"
   ]
  },
  {
   "cell_type": "code",
   "execution_count": null,
   "id": "43b0b529-ae98-4c1c-80f7-54d4863b17ac",
   "metadata": {},
   "outputs": [],
   "source": []
  }
 ],
 "metadata": {
  "kernelspec": {
   "display_name": "Python 3 (ipykernel)",
   "language": "python",
   "name": "python3"
  },
  "language_info": {
   "codemirror_mode": {
    "name": "ipython",
    "version": 3
   },
   "file_extension": ".py",
   "mimetype": "text/x-python",
   "name": "python",
   "nbconvert_exporter": "python",
   "pygments_lexer": "ipython3",
   "version": "3.13.3"
  }
 },
 "nbformat": 4,
 "nbformat_minor": 5
}
