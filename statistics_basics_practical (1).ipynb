{
  "nbformat": 4,
  "nbformat_minor": 0,
  "metadata": {
    "colab": {
      "provenance": []
    },
    "kernelspec": {
      "name": "python3",
      "display_name": "Python 3"
    },
    "language_info": {
      "name": "python"
    }
  },
  "cells": [
    {
      "cell_type": "code",
      "execution_count": null,
      "metadata": {
        "colab": {
          "base_uri": "https://localhost:8080/"
        },
        "id": "7nsapz-MNtMJ",
        "outputId": "7b6a588f-f4c9-4325-89d1-f920cf2f34b9"
      },
      "outputs": [
        {
          "output_type": "stream",
          "name": "stdout",
          "text": [
            "Mean: 3.7142857142857144\n",
            "Median: 4.0\n",
            "Mode: 3\n"
          ]
        }
      ],
      "source": [
        "# How do you calculate the mean, median, and mode of a dataset\n",
        "import numpy as np\n",
        "data=[1,3,4,3,4,5,6]\n",
        "print(\"Mean:\",np.mean(data))\n",
        "print(\"Median:\",np.median(data))\n",
        "\n",
        "import statistics as stat\n",
        "print(\"Mode:\",stat.mode(data))"
      ]
    },
    {
      "cell_type": "code",
      "source": [
        "# Write a Python program to compute the variance and standard deviation of a dataset\n",
        "import numpy as np\n",
        "data=[1,3,4,3,4,5,6]\n",
        "print(\"Variance:\",np.var(data))\n",
        "print(\"Standard deviation:\",np.std(data))"
      ],
      "metadata": {
        "colab": {
          "base_uri": "https://localhost:8080/"
        },
        "id": "v476IDtHOEEF",
        "outputId": "55f1f3a9-4db5-4cef-8336-76c9a8f9f2b9"
      },
      "execution_count": null,
      "outputs": [
        {
          "output_type": "stream",
          "name": "stdout",
          "text": [
            "Variance: 2.204081632653061\n",
            "Standard deviation: 1.4846149779161804\n"
          ]
        }
      ]
    },
    {
      "cell_type": "code",
      "source": [
        "# Create a dataset and classify it into nominal, ordinal, interval, and ratio types\n",
        "import pandas as pd\n",
        "\n",
        "# Creating a sample dataset\n",
        "data = {\n",
        "    \"Gender\": [\"Male\", \"Female\", \"Female\", \"Male\", \"Other\"],             # Nominal\n",
        "    \"Satisfaction_Level\": [\"Low\", \"Medium\", \"High\", \"Medium\", \"Low\"],    # Ordinal\n",
        "    \"Temperature_C\": [22, 18, 20, 21, 19],                                # Interval\n",
        "    \"Income\": [30000, 45000, 50000, 35000, 40000]                         # Ratio\n",
        "}\n",
        "\n",
        "#creating the data frame\n",
        "df=pd.DataFrame(data)\n",
        "df\n",
        "\n",
        "# Display the dataset\n",
        "print(\"Sample Dataset:\")\n",
        "print(df)\n",
        "\n",
        "# Classifying data types\n",
        "data_types = {\n",
        "    \"Gender\": \"Nominal\",\n",
        "    \"Satisfaction_Level\": \"Ordinal\",\n",
        "    \"Temperature_C\": \"Interval\",\n",
        "    \"Income\": \"Ratio\"\n",
        "}\n",
        "\n",
        "print(\"\\nData Type Classification:\")\n",
        "for column, dtype in data_types.items():\n",
        "    print(f\"{column}: {dtype}\")"
      ],
      "metadata": {
        "colab": {
          "base_uri": "https://localhost:8080/"
        },
        "id": "xCNgyQK7PHoS",
        "outputId": "3809b142-5136-4f5a-9119-ff81d6c12ebe"
      },
      "execution_count": null,
      "outputs": [
        {
          "output_type": "stream",
          "name": "stdout",
          "text": [
            "Sample Dataset:\n",
            "   Gender Satisfaction_Level  Temperature_C  Income\n",
            "0    Male                Low             22   30000\n",
            "1  Female             Medium             18   45000\n",
            "2  Female               High             20   50000\n",
            "3    Male             Medium             21   35000\n",
            "4   Other                Low             19   40000\n",
            "\n",
            "Data Type Classification:\n",
            "Gender: Nominal\n",
            "Satisfaction_Level: Ordinal\n",
            "Temperature_C: Interval\n",
            "Income: Ratio\n"
          ]
        }
      ]
    },
    {
      "cell_type": "code",
      "source": [
        "# Implement sampling techniques like random sampling and stratified sampling\n",
        "import pandas as pd\n",
        "import numpy as np\n",
        "from sklearn.model_selection import train_test_split\n",
        "\n",
        "# Sample data with a 'Group' column for stratification\n",
        "data = {\n",
        "    'ID': range(1, 21),\n",
        "    'Name': [f'Person_{i}' for i in range(1, 21)],\n",
        "    'Group': ['A', 'B'] * 10,\n",
        "    'Score': np.random.randint(50, 100, size=20)\n",
        "}\n",
        "\n",
        "df = pd.DataFrame(data)\n",
        "print(\"Original Dataset:\")\n",
        "print(df)\n",
        "\n",
        "# Randomly selecting 5 samples from the dataset\n",
        "random_sample = df.sample(n=5, random_state=42)\n",
        "\n",
        "print(\"\\nRandom Sample:\")\n",
        "print(random_sample)\n",
        "\n",
        "# Stratified sampling (selecting 30% from each group). Here grouping is based on Group column(\"A\",\"B\").\n",
        "# train_test_split(...) returns two datasets — here,\n",
        "# stratified_sample gets the 30% stratified sample you want,\n",
        "# and _ discards the unused 70%. _ is a Python convention for \"ignore this value.\"\n",
        "stratified_sample, _ = train_test_split(\n",
        "    df,\n",
        "    test_size=0.7,\n",
        "    stratify=df['Group'],\n",
        "    random_state=42\n",
        ")\n",
        "\n",
        "print(\"\\nStratified Sample:\")\n",
        "print(stratified_sample)\n"
      ],
      "metadata": {
        "colab": {
          "base_uri": "https://localhost:8080/"
        },
        "id": "LaMcnc4DQlol",
        "outputId": "63b14207-7631-450b-90d9-e41ac8fc48cf"
      },
      "execution_count": null,
      "outputs": [
        {
          "output_type": "stream",
          "name": "stdout",
          "text": [
            "Original Dataset:\n",
            "    ID       Name Group  Score\n",
            "0    1   Person_1     A     58\n",
            "1    2   Person_2     B     59\n",
            "2    3   Person_3     A     63\n",
            "3    4   Person_4     B     72\n",
            "4    5   Person_5     A     99\n",
            "5    6   Person_6     B     68\n",
            "6    7   Person_7     A     91\n",
            "7    8   Person_8     B     86\n",
            "8    9   Person_9     A     80\n",
            "9   10  Person_10     B     50\n",
            "10  11  Person_11     A     55\n",
            "11  12  Person_12     B     52\n",
            "12  13  Person_13     A     91\n",
            "13  14  Person_14     B     76\n",
            "14  15  Person_15     A     51\n",
            "15  16  Person_16     B     64\n",
            "16  17  Person_17     A     96\n",
            "17  18  Person_18     B     92\n",
            "18  19  Person_19     A     83\n",
            "19  20  Person_20     B     93\n",
            "\n",
            "Random Sample:\n",
            "    ID       Name Group  Score\n",
            "0    1   Person_1     A     58\n",
            "17  18  Person_18     B     92\n",
            "15  16  Person_16     B     64\n",
            "1    2   Person_2     B     59\n",
            "8    9   Person_9     A     80\n",
            "\n",
            "Stratified Sample:\n",
            "    ID       Name Group  Score\n",
            "16  17  Person_17     A     96\n",
            "10  11  Person_11     A     55\n",
            "17  18  Person_18     B     92\n",
            "1    2   Person_2     B     59\n",
            "2    3   Person_3     A     63\n",
            "3    4   Person_4     B     72\n"
          ]
        }
      ]
    },
    {
      "cell_type": "code",
      "source": [
        "# Write a Python function to calculate the range of a dataset\n",
        "def calculate_range(data):\n",
        "  return max(data)-min(data)\n",
        "data=[1,3,4,3,4,5,6]\n",
        "print(\"Range:\",calculate_range(data))"
      ],
      "metadata": {
        "id": "ZvU4VT3VR_ch",
        "colab": {
          "base_uri": "https://localhost:8080/"
        },
        "outputId": "8d171588-0440-4080-dc07-04af332eeb80"
      },
      "execution_count": null,
      "outputs": [
        {
          "output_type": "stream",
          "name": "stdout",
          "text": [
            "Range: 5\n"
          ]
        }
      ]
    },
    {
      "cell_type": "code",
      "source": [
        "# Create a dataset and plot its histogram to visualize skewness\n",
        "import numpy as np\n",
        "import pandas as pd\n",
        "import matplotlib.pyplot as plt\n",
        "import seaborn as sns\n",
        "from scipy.stats import skew\n",
        "\n",
        "# Create a positively skewed dataset (e.g., exponential distribution)\n",
        "data = np.random.exponential(scale=2.0, size=1000)\n",
        "df = pd.DataFrame(data, columns=['Values'])\n",
        "\n",
        "# Calculate skewness\n",
        "skewness_value = skew(df['Values'])\n",
        "\n",
        "# Plot histogram\n",
        "plt.figure(figsize=(8, 5))\n",
        "sns.histplot(df['Values'], bins=30, kde=True, color='black')\n",
        "plt.title(f\"Histogram of Skewed Data (Skewness = {skewness_value:.2f})\")\n",
        "plt.xlabel(\"Value\")\n",
        "plt.ylabel(\"Frequency\")\n",
        "plt.grid(True)\n",
        "plt.show()\n"
      ],
      "metadata": {
        "colab": {
          "base_uri": "https://localhost:8080/",
          "height": 487
        },
        "id": "RaZxVRe1dZ1c",
        "outputId": "45317f76-cb32-4d87-f02b-84eb4125ef90"
      },
      "execution_count": null,
      "outputs": [
        {
          "output_type": "display_data",
          "data": {
            "text/plain": [
              "<Figure size 800x500 with 1 Axes>"
            ],
            "image/png": "[encoded data removed]"
          },
          "metadata": {}
        }
      ]
    },
    {
      "cell_type": "code",
      "source": [
        "# Calculate skewness and kurtosis of a dataset using Python libraries\n",
        "import numpy as np\n",
        "from scipy.stats import skew,kurtosis\n",
        "data=np.random.randint(1,10,size=10)\n",
        "print(\"Skewness:\",skew(data))\n",
        "print(\"Kurtosis\",kurtosis(data))"
      ],
      "metadata": {
        "colab": {
          "base_uri": "https://localhost:8080/"
        },
        "id": "biiYRZ73hNcn",
        "outputId": "0947288c-5d10-4050-8f44-bacf0ea3c670"
      },
      "execution_count": null,
      "outputs": [
        {
          "output_type": "stream",
          "name": "stdout",
          "text": [
            "Skewness: -0.8561522363429734\n",
            "Kurtosis -0.28069904710466353\n"
          ]
        }
      ]
    },
    {
      "cell_type": "code",
      "source": [
        "# Generate a dataset and demonstrate positive and negative skewness\n",
        "import numpy as np\n",
        "import pandas as pd\n",
        "import matplotlib.pyplot as plt\n",
        "import seaborn as sns\n",
        "from scipy.stats import skew\n",
        "\n",
        "# 1. Positively Skewed Data (e.g., exponential distribution)\n",
        "positive_skew = np.random.exponential(scale=2.0, size=1000)\n",
        "\n",
        "# 2. Negatively Skewed Data (e.g., negative of exponential)\n",
        "negative_skew = -np.random.exponential(scale=2.0, size=1000)\n",
        "\n",
        "# Calculate skewness values\n",
        "pos_skew_val = skew(positive_skew)\n",
        "neg_skew_val = skew(negative_skew)\n",
        "\n",
        "# Plotting both histograms side by side\n",
        "plt.figure(figsize=(14, 6))\n",
        "\n",
        "# Positive skew\n",
        "plt.subplot(1, 2, 1)\n",
        "sns.histplot(positive_skew, bins=30, kde=True, color='black')\n",
        "plt.title(f\"Positive Skew (Skewness = {pos_skew_val:.2f})\")\n",
        "plt.xlabel(\"Values\")\n",
        "plt.ylabel(\"Frequency\")\n",
        "\n",
        "# Negative skew\n",
        "plt.subplot(1, 2, 2)\n",
        "sns.histplot(negative_skew, bins=30, kde=True, color='red')\n",
        "plt.title(f\"Negative Skew (Skewness = {neg_skew_val:.2f})\")\n",
        "plt.xlabel(\"Values\")\n",
        "plt.ylabel(\"Frequency\")\n",
        "\n",
        "plt.tight_layout()\n",
        "plt.show()\n"
      ],
      "metadata": {
        "colab": {
          "base_uri": "https://localhost:8080/",
          "height": 607
        },
        "id": "P4blQo9XjtfN",
        "outputId": "e5df6f36-0f86-479c-e401-7c3833e00d5d"
      },
      "execution_count": null,
      "outputs": [
        {
          "output_type": "display_data",
          "data": {
            "text/plain": [
              "<Figure size 1400x600 with 2 Axes>"
            ],
            "image/png": "[encoded data removed]"
          },
          "metadata": {}
        }
      ]
    },
    {
      "cell_type": "code",
      "source": [
        "# Write a Python script to calculate covariance between two datasets\n",
        "\n",
        "import pandas as pd\n",
        "\n",
        "# Create two datasets (lists or arrays)\n",
        "x = [10, 20, 30, 40, 50]\n",
        "y = [5, 25, 35, 45, 65]\n",
        "\n",
        "# Convert to DataFrame\n",
        "df = pd.DataFrame({'X': x, 'Y': y})\n",
        "df.cov()"
      ],
      "metadata": {
        "colab": {
          "base_uri": "https://localhost:8080/",
          "height": 112
        },
        "id": "v68a_aXdrn-q",
        "outputId": "21b8cd02-ddca-4f6d-db44-51719e3d1c10"
      },
      "execution_count": null,
      "outputs": [
        {
          "output_type": "execute_result",
          "data": {
            "text/plain": [
              "       X      Y\n",
              "X  250.0  350.0\n",
              "Y  350.0  500.0"
            ],
            "text/html": [
              "\n",
              "  <div id=\"df-4789afdf-29cf-44eb-8910-fad7f20fdc78\" class=\"colab-df-container\">\n",
              "    <div>\n",
              "<style scoped>\n",
              "    .dataframe tbody tr th:only-of-type {\n",
              "        vertical-align: middle;\n",
              "    }\n",
              "\n",
              "    .dataframe tbody tr th {\n",
              "        vertical-align: top;\n",
              "    }\n",
              "\n",
              "    .dataframe thead th {\n",
              "        text-align: right;\n",
              "    }\n",
              "</style>\n",
              "<table border=\"1\" class=\"dataframe\">\n",
              "  <thead>\n",
              "    <tr style=\"text-align: right;\">\n",
              "      <th></th>\n",
              "      <th>X</th>\n",
              "      <th>Y</th>\n",
              "    </tr>\n",
              "  </thead>\n",
              "  <tbody>\n",
              "    <tr>\n",
              "      <th>X</th>\n",
              "      <td>250.0</td>\n",
              "      <td>350.0</td>\n",
              "    </tr>\n",
              "    <tr>\n",
              "      <th>Y</th>\n",
              "      <td>350.0</td>\n",
              "      <td>500.0</td>\n",
              "    </tr>\n",
              "  </tbody>\n",
              "</table>\n",
              "</div>\n",
              "    <div class=\"colab-df-buttons\">\n",
              "\n",
              "  <div class=\"colab-df-container\">\n",
              "    <button class=\"colab-df-convert\" onclick=\"convertToInteractive('df-4789afdf-29cf-44eb-8910-fad7f20fdc78')\"\n",
              "            title=\"Convert this dataframe to an interactive table.\"\n",
              "            style=\"display:none;\">\n",
              "\n",
              "  <svg xmlns=\"http://www.w3.org/2000/svg\" height=\"24px\" viewBox=\"0 -960 960 960\">\n",
              "    <path d=\"M120-120v-720h720v720H120Zm60-500h600v-160H180v160Zm220 220h160v-160H400v160Zm0 220h160v-160H400v160ZM180-400h160v-160H180v160Zm440 0h160v-160H620v160ZM180-180h160v-160H180v160Zm440 0h160v-160H620v160Z\"/>\n",
              "  </svg>\n",
              "    </button>\n",
              "\n",
              "  <style>\n",
              "    .colab-df-container {\n",
              "      display:flex;\n",
              "      gap: 12px;\n",
              "    }\n",
              "\n",
              "    .colab-df-convert {\n",
              "      background-color: #E8F0FE;\n",
              "      border: none;\n",
              "      border-radius: 50%;\n",
              "      cursor: pointer;\n",
              "      display: none;\n",
              "      fill: #1967D2;\n",
              "      height: 32px;\n",
              "      padding: 0 0 0 0;\n",
              "      width: 32px;\n",
              "    }\n",
              "\n",
              "    .colab-df-convert:hover {\n",
              "      background-color: #E2EBFA;\n",
              "      box-shadow: 0px 1px 2px rgba(60, 64, 67, 0.3), 0px 1px 3px 1px rgba(60, 64, 67, 0.15);\n",
              "      fill: #174EA6;\n",
              "    }\n",
              "\n",
              "    .colab-df-buttons div {\n",
              "      margin-bottom: 4px;\n",
              "    }\n",
              "\n",
              "    [theme=dark] .colab-df-convert {\n",
              "      background-color: #3B4455;\n",
              "      fill: #D2E3FC;\n",
              "    }\n",
              "\n",
              "    [theme=dark] .colab-df-convert:hover {\n",
              "      background-color: #434B5C;\n",
              "      box-shadow: 0px 1px 3px 1px rgba(0, 0, 0, 0.15);\n",
              "      filter: drop-shadow(0px 1px 2px rgba(0, 0, 0, 0.3));\n",
              "      fill: #FFFFFF;\n",
              "    }\n",
              "  </style>\n",
              "\n",
              "    <script>\n",
              "      const buttonEl =\n",
              "        document.querySelector('#df-4789afdf-29cf-44eb-8910-fad7f20fdc78 button.colab-df-convert');\n",
              "      buttonEl.style.display =\n",
              "        google.colab.kernel.accessAllowed ? 'block' : 'none';\n",
              "\n",
              "      async function convertToInteractive(key) {\n",
              "        const element = document.querySelector('#df-4789afdf-29cf-44eb-8910-fad7f20fdc78');\n",
              "        const dataTable =\n",
              "          await google.colab.kernel.invokeFunction('convertToInteractive',\n",
              "                                                    [key], {});\n",
              "        if (!dataTable) return;\n",
              "\n",
              "        const docLinkHtml = 'Like what you see? Visit the ' +\n",
              "          '<a target=\"_blank\" href=https://colab.research.google.com/notebooks/data_table.ipynb>data table notebook</a>'\n",
              "          + ' to learn more about interactive tables.';\n",
              "        element.innerHTML = '';\n",
              "        dataTable['output_type'] = 'display_data';\n",
              "        await google.colab.output.renderOutput(dataTable, element);\n",
              "        const docLink = document.createElement('div');\n",
              "        docLink.innerHTML = docLinkHtml;\n",
              "        element.appendChild(docLink);\n",
              "      }\n",
              "    </script>\n",
              "  </div>\n",
              "\n",
              "\n",
              "    <div id=\"df-d2be4698-b5e1-41f5-b9c9-4d5dd8030a18\">\n",
              "      <button class=\"colab-df-quickchart\" onclick=\"quickchart('df-d2be4698-b5e1-41f5-b9c9-4d5dd8030a18')\"\n",
              "                title=\"Suggest charts\"\n",
              "                style=\"display:none;\">\n",
              "\n",
              "<svg xmlns=\"http://www.w3.org/2000/svg\" height=\"24px\"viewBox=\"0 0 24 24\"\n",
              "     width=\"24px\">\n",
              "    <g>\n",
              "        <path d=\"M19 3H5c-1.1 0-2 .9-2 2v14c0 1.1.9 2 2 2h14c1.1 0 2-.9 2-2V5c0-1.1-.9-2-2-2zM9 17H7v-7h2v7zm4 0h-2V7h2v10zm4 0h-2v-4h2v4z\"/>\n",
              "    </g>\n",
              "</svg>\n",
              "      </button>\n",
              "\n",
              "<style>\n",
              "  .colab-df-quickchart {\n",
              "      --bg-color: #E8F0FE;\n",
              "      --fill-color: #1967D2;\n",
              "      --hover-bg-color: #E2EBFA;\n",
              "      --hover-fill-color: #174EA6;\n",
              "      --disabled-fill-color: #AAA;\n",
              "      --disabled-bg-color: #DDD;\n",
              "  }\n",
              "\n",
              "  [theme=dark] .colab-df-quickchart {\n",
              "      --bg-color: #3B4455;\n",
              "      --fill-color: #D2E3FC;\n",
              "      --hover-bg-color: #434B5C;\n",
              "      --hover-fill-color: #FFFFFF;\n",
              "      --disabled-bg-color: #3B4455;\n",
              "      --disabled-fill-color: #666;\n",
              "  }\n",
              "\n",
              "  .colab-df-quickchart {\n",
              "    background-color: var(--bg-color);\n",
              "    border: none;\n",
              "    border-radius: 50%;\n",
              "    cursor: pointer;\n",
              "    display: none;\n",
              "    fill: var(--fill-color);\n",
              "    height: 32px;\n",
              "    padding: 0;\n",
              "    width: 32px;\n",
              "  }\n",
              "\n",
              "  .colab-df-quickchart:hover {\n",
              "    background-color: var(--hover-bg-color);\n",
              "    box-shadow: 0 1px 2px rgba(60, 64, 67, 0.3), 0 1px 3px 1px rgba(60, 64, 67, 0.15);\n",
              "    fill: var(--button-hover-fill-color);\n",
              "  }\n",
              "\n",
              "  .colab-df-quickchart-complete:disabled,\n",
              "  .colab-df-quickchart-complete:disabled:hover {\n",
              "    background-color: var(--disabled-bg-color);\n",
              "    fill: var(--disabled-fill-color);\n",
              "    box-shadow: none;\n",
              "  }\n",
              "\n",
              "  .colab-df-spinner {\n",
              "    border: 2px solid var(--fill-color);\n",
              "    border-color: transparent;\n",
              "    border-bottom-color: var(--fill-color);\n",
              "    animation:\n",
              "      spin 1s steps(1) infinite;\n",
              "  }\n",
              "\n",
              "  @keyframes spin {\n",
              "    0% {\n",
              "      border-color: transparent;\n",
              "      border-bottom-color: var(--fill-color);\n",
              "      border-left-color: var(--fill-color);\n",
              "    }\n",
              "    20% {\n",
              "      border-color: transparent;\n",
              "      border-left-color: var(--fill-color);\n",
              "      border-top-color: var(--fill-color);\n",
              "    }\n",
              "    30% {\n",
              "      border-color: transparent;\n",
              "      border-left-color: var(--fill-color);\n",
              "      border-top-color: var(--fill-color);\n",
              "      border-right-color: var(--fill-color);\n",
              "    }\n",
              "    40% {\n",
              "      border-color: transparent;\n",
              "      border-right-color: var(--fill-color);\n",
              "      border-top-color: var(--fill-color);\n",
              "    }\n",
              "    60% {\n",
              "      border-color: transparent;\n",
              "      border-right-color: var(--fill-color);\n",
              "    }\n",
              "    80% {\n",
              "      border-color: transparent;\n",
              "      border-right-color: var(--fill-color);\n",
              "      border-bottom-color: var(--fill-color);\n",
              "    }\n",
              "    90% {\n",
              "      border-color: transparent;\n",
              "      border-bottom-color: var(--fill-color);\n",
              "    }\n",
              "  }\n",
              "</style>\n",
              "\n",
              "      <script>\n",
              "        async function quickchart(key) {\n",
              "          const quickchartButtonEl =\n",
              "            document.querySelector('#' + key + ' button');\n",
              "          quickchartButtonEl.disabled = true;  // To prevent multiple clicks.\n",
              "          quickchartButtonEl.classList.add('colab-df-spinner');\n",
              "          try {\n",
              "            const charts = await google.colab.kernel.invokeFunction(\n",
              "                'suggestCharts', [key], {});\n",
              "          } catch (error) {\n",
              "            console.error('Error during call to suggestCharts:', error);\n",
              "          }\n",
              "          quickchartButtonEl.classList.remove('colab-df-spinner');\n",
              "          quickchartButtonEl.classList.add('colab-df-quickchart-complete');\n",
              "        }\n",
              "        (() => {\n",
              "          let quickchartButtonEl =\n",
              "            document.querySelector('#df-d2be4698-b5e1-41f5-b9c9-4d5dd8030a18 button');\n",
              "          quickchartButtonEl.style.display =\n",
              "            google.colab.kernel.accessAllowed ? 'block' : 'none';\n",
              "        })();\n",
              "      </script>\n",
              "    </div>\n",
              "\n",
              "    </div>\n",
              "  </div>\n"
            ],
            "application/vnd.google.colaboratory.intrinsic+json": {
              "type": "dataframe",
              "summary": "{\n  \"name\": \"df\",\n  \"rows\": 2,\n  \"fields\": [\n    {\n      \"column\": \"X\",\n      \"properties\": {\n        \"dtype\": \"number\",\n        \"std\": 70.71067811865476,\n        \"min\": 250.0,\n        \"max\": 350.0,\n        \"num_unique_values\": 2,\n        \"samples\": [\n          350.0,\n          250.0\n        ],\n        \"semantic_type\": \"\",\n        \"description\": \"\"\n      }\n    },\n    {\n      \"column\": \"Y\",\n      \"properties\": {\n        \"dtype\": \"number\",\n        \"std\": 106.06601717798213,\n        \"min\": 350.0,\n        \"max\": 500.0,\n        \"num_unique_values\": 2,\n        \"samples\": [\n          500.0,\n          350.0\n        ],\n        \"semantic_type\": \"\",\n        \"description\": \"\"\n      }\n    }\n  ]\n}"
            }
          },
          "metadata": {},
          "execution_count": 95
        }
      ]
    },
    {
      "cell_type": "code",
      "source": [
        "# Write a Python script to calculate the correlation coefficient between two datasets\n",
        "\n",
        "import pandas as pd\n",
        "\n",
        "# Create two datasets (lists or arrays)\n",
        "x = [10, 20, 30, 40, 50]\n",
        "y = [5, 25, 35, 45, 65]\n",
        "\n",
        "# Create a DataFrame from the datasets\n",
        "df = pd.DataFrame({\"X\": x, \"Y\": y})\n",
        "\n",
        "# Calculate the correlation coefficient matrix\n",
        "print(df.corr())\n"
      ],
      "metadata": {
        "colab": {
          "base_uri": "https://localhost:8080/"
        },
        "id": "W1-ETANNlQSP",
        "outputId": "a21ddefb-853c-4cdd-a550-8e549f99eb83"
      },
      "execution_count": null,
      "outputs": [
        {
          "output_type": "stream",
          "name": "stdout",
          "text": [
            "          X         Y\n",
            "X  1.000000  0.989949\n",
            "Y  0.989949  1.000000\n"
          ]
        }
      ]
    },
    {
      "cell_type": "code",
      "source": [
        "# Create a scatter plot to visualize the relationship between two variables\n",
        "\n",
        "import pandas as pd\n",
        "import matplotlib.pyplot as plt\n",
        "import seaborn as sns\n",
        "\n",
        "# Sample data for two variables\n",
        "x = [10, 20, 30, 40, 50]\n",
        "y = [5, 25, 35, 45, 65]\n",
        "\n",
        "# Create a DataFrame\n",
        "df = pd.DataFrame({\"X\": x, \"Y\": y})\n",
        "\n",
        "# Create a scatter plot using Seaborn\n",
        "plt.figure(figsize=(6, 4))\n",
        "sns.scatterplot(x=\"X\", y=\"Y\", data=df, color='blue', s=80)\n",
        "\n",
        "# Add plot labels and title\n",
        "plt.title(\"Scatter Plot: X vs Y\")\n",
        "plt.xlabel(\"X values\")\n",
        "plt.ylabel(\"Y values\")\n",
        "\n",
        "# Show the plot\n",
        "plt.grid(True)\n",
        "plt.tight_layout()\n",
        "plt.show()\n"
      ],
      "metadata": {
        "colab": {
          "base_uri": "https://localhost:8080/",
          "height": 407
        },
        "id": "qOSosvStuDW4",
        "outputId": "1507d5ea-ed0f-4908-b06a-92e7cce31b58"
      },
      "execution_count": null,
      "outputs": [
        {
          "output_type": "display_data",
          "data": {
            "text/plain": [
              "<Figure size 600x400 with 1 Axes>"
            ],
            "image/png": "[encoded data removed]"
          },
          "metadata": {}
        }
      ]
    },
    {
      "cell_type": "code",
      "source": [
        "# Implement and compare simple random sampling and systematic sampling\n",
        "\n",
        "import numpy as np\n",
        "import pandas as pd\n",
        "\n",
        "np.random.seed(0)\n",
        "data = pd.DataFrame({\"Value\": np.random.randint(1, 100, size=100)})\n",
        "\n",
        "# Simple Random Sampling\n",
        "random_sampling = data.sample(n=5, random_state=42)\n",
        "\n",
        "# Systematic Sampling\n",
        "k = len(data) // 10\n",
        "start = np.random.randint(0, k)\n",
        "sys = data.iloc[start::k][:5]  # [:5] represents only print 5 values\n",
        "\n",
        "# Print results\n",
        "print(\"Random Sampling:\")\n",
        "print(random_sampling)\n",
        "\n",
        "print(\"\\nSystematic Sampling:\")\n",
        "print(sys)\n",
        "\n",
        "# Print means to compare\n",
        "print(\"Population Mean:\", data['Value'].mean())\n",
        "print(\"SRS Mean:\", random_sampling['Value'].mean())\n",
        "print(\"Systematic Mean:\", sys['Value'].mean())"
      ],
      "metadata": {
        "colab": {
          "base_uri": "https://localhost:8080/"
        },
        "id": "2xvbryn7uVOT",
        "outputId": "b9b3ef15-ed8c-45c0-eb70-e3eb3456a9ab"
      },
      "execution_count": null,
      "outputs": [
        {
          "output_type": "stream",
          "name": "stdout",
          "text": [
            "Random Sampling:\n",
            "    Value\n",
            "83     69\n",
            "53      1\n",
            "70     12\n",
            "45     32\n",
            "44     33\n",
            "\n",
            "Systematic Sampling:\n",
            "    Value\n",
            "3      68\n",
            "13     13\n",
            "23     78\n",
            "33     89\n",
            "43     58\n",
            "Population Mean: 47.85\n",
            "SRS Mean: 29.4\n",
            "Systematic Mean: 61.2\n"
          ]
        }
      ]
    },
    {
      "cell_type": "code",
      "source": [
        "# Calculate the mean, median, and mode of grouped data\n",
        "\n",
        "import pandas as pd\n",
        "\n",
        "# Define grouped data\n",
        "classes = [(0, 10), (10, 20), (20, 30), (30, 40), (40, 50)]\n",
        "frequencies = [5, 8, 15, 16, 6]\n",
        "\n",
        "# Create DataFrame\n",
        "df = pd.DataFrame(classes, columns=['Lower', 'Upper'])\n",
        "df['Frequency'] = frequencies   #create frequency column\n",
        "df['Midpoint'] = (df['Lower'] + df['Upper']) / 2  #calculate midpoint of every lower and upper value & store it in new column named midpoint\n",
        "df['f*x'] = df['Frequency'] * df['Midpoint'] #multiply frequency and midpoint and store it in new column named f*x\n",
        "\n",
        "# Mean\n",
        "mean = df['f*x'].sum() / df['Frequency'].sum()\n",
        "\n",
        "# Median\n",
        "df['Cumulative'] = df['Frequency'].cumsum()  #calculate cumulative frequency\n",
        "N = df['Frequency'].sum()\n",
        "median_class_index = df[df['Cumulative'] >= N/2].index[0]  #return index number of median class\n",
        "L = df.loc[median_class_index, 'Lower'] #lower value of median class\n",
        "cf = df.loc[median_class_index - 1, 'Cumulative'] if median_class_index > 0 else 0 #cumulative frequency of previous class\n",
        "f = df.loc[median_class_index, 'Frequency']  #f requency of median class\n",
        "h = df.loc[median_class_index, 'Upper'] - df.loc[median_class_index, 'Lower']  #difference of median class\n",
        "median = L + ((N/2 - cf) / f) * h\n",
        "\n",
        "# Mode\n",
        "modal_index = df['Frequency'].idxmax()  #returns index number of modal class\n",
        "L = df.loc[modal_index, 'Lower']\n",
        "f1 = df.loc[modal_index, 'Frequency']\n",
        "f0 = df.loc[modal_index - 1, 'Frequency'] if modal_index > 0 else 0\n",
        "f2 = df.loc[modal_index + 1, 'Frequency'] if modal_index + 1 < len(df) else 0\n",
        "mode = L + ((f1 - f0) / (2*f1 - f0 - f2)) * h\n",
        "\n",
        "# Print Results\n",
        "print(\"Mean:\", round(mean, 2))\n",
        "print(\"Median:\", round(median, 2))\n",
        "print(\"Mode:\", round(mode, 2))\n"
      ],
      "metadata": {
        "colab": {
          "base_uri": "https://localhost:8080/"
        },
        "id": "g-Weo1eOxDTP",
        "outputId": "8a62a913-4497-43e6-c279-58b3a585f047"
      },
      "execution_count": null,
      "outputs": [
        {
          "output_type": "stream",
          "name": "stdout",
          "text": [
            "Mean: 27.0\n",
            "Median: 28.0\n",
            "Mode: 30.91\n"
          ]
        }
      ]
    },
    {
      "cell_type": "code",
      "source": [
        "# Simulate data using Python and calculate its central tendency and dispersion.\n",
        "\n",
        "import numpy as np\n",
        "import pandas as pd\n",
        "\n",
        "data={'Group':np.random.choice(['A','B'],size=10),\n",
        "    'Values':np.random.randint(1,10,10)}\n",
        "df=pd.DataFrame(data)\n",
        "result=df.groupby('Group')['Values'].agg(    mean='mean',\n",
        "    median='median',\n",
        "    range=lambda x: x.max() - x.min(),\n",
        "    var='var',\n",
        "    std='std')\n",
        "result"
      ],
      "metadata": {
        "id": "q_ve4ro-2hdP",
        "colab": {
          "base_uri": "https://localhost:8080/",
          "height": 143
        },
        "outputId": "a11b34cc-0539-451e-c726-8d9e7d1e1ebd"
      },
      "execution_count": null,
      "outputs": [
        {
          "output_type": "execute_result",
          "data": {
            "text/plain": [
              "       mean  median  range  var       std\n",
              "Group                                    \n",
              "A       4.2     4.0      8  9.7  3.114482\n",
              "B       4.8     4.0      5  3.7  1.923538"
            ],
            "text/html": [
              "\n",
              "  <div id=\"df-dfa0b58e-f897-40a4-88c0-8dc29f3af80c\" class=\"colab-df-container\">\n",
              "    <div>\n",
              "<style scoped>\n",
              "    .dataframe tbody tr th:only-of-type {\n",
              "        vertical-align: middle;\n",
              "    }\n",
              "\n",
              "    .dataframe tbody tr th {\n",
              "        vertical-align: top;\n",
              "    }\n",
              "\n",
              "    .dataframe thead th {\n",
              "        text-align: right;\n",
              "    }\n",
              "</style>\n",
              "<table border=\"1\" class=\"dataframe\">\n",
              "  <thead>\n",
              "    <tr style=\"text-align: right;\">\n",
              "      <th></th>\n",
              "      <th>mean</th>\n",
              "      <th>median</th>\n",
              "      <th>range</th>\n",
              "      <th>var</th>\n",
              "      <th>std</th>\n",
              "    </tr>\n",
              "    <tr>\n",
              "      <th>Group</th>\n",
              "      <th></th>\n",
              "      <th></th>\n",
              "      <th></th>\n",
              "      <th></th>\n",
              "      <th></th>\n",
              "    </tr>\n",
              "  </thead>\n",
              "  <tbody>\n",
              "    <tr>\n",
              "      <th>A</th>\n",
              "      <td>4.2</td>\n",
              "      <td>4.0</td>\n",
              "      <td>8</td>\n",
              "      <td>9.7</td>\n",
              "      <td>3.114482</td>\n",
              "    </tr>\n",
              "    <tr>\n",
              "      <th>B</th>\n",
              "      <td>4.8</td>\n",
              "      <td>4.0</td>\n",
              "      <td>5</td>\n",
              "      <td>3.7</td>\n",
              "      <td>1.923538</td>\n",
              "    </tr>\n",
              "  </tbody>\n",
              "</table>\n",
              "</div>\n",
              "    <div class=\"colab-df-buttons\">\n",
              "\n",
              "  <div class=\"colab-df-container\">\n",
              "    <button class=\"colab-df-convert\" onclick=\"convertToInteractive('df-dfa0b58e-f897-40a4-88c0-8dc29f3af80c')\"\n",
              "            title=\"Convert this dataframe to an interactive table.\"\n",
              "            style=\"display:none;\">\n",
              "\n",
              "  <svg xmlns=\"http://www.w3.org/2000/svg\" height=\"24px\" viewBox=\"0 -960 960 960\">\n",
              "    <path d=\"M120-120v-720h720v720H120Zm60-500h600v-160H180v160Zm220 220h160v-160H400v160Zm0 220h160v-160H400v160ZM180-400h160v-160H180v160Zm440 0h160v-160H620v160ZM180-180h160v-160H180v160Zm440 0h160v-160H620v160Z\"/>\n",
              "  </svg>\n",
              "    </button>\n",
              "\n",
              "  <style>\n",
              "    .colab-df-container {\n",
              "      display:flex;\n",
              "      gap: 12px;\n",
              "    }\n",
              "\n",
              "    .colab-df-convert {\n",
              "      background-color: #E8F0FE;\n",
              "      border: none;\n",
              "      border-radius: 50%;\n",
              "      cursor: pointer;\n",
              "      display: none;\n",
              "      fill: #1967D2;\n",
              "      height: 32px;\n",
              "      padding: 0 0 0 0;\n",
              "      width: 32px;\n",
              "    }\n",
              "\n",
              "    .colab-df-convert:hover {\n",
              "      background-color: #E2EBFA;\n",
              "      box-shadow: 0px 1px 2px rgba(60, 64, 67, 0.3), 0px 1px 3px 1px rgba(60, 64, 67, 0.15);\n",
              "      fill: #174EA6;\n",
              "    }\n",
              "\n",
              "    .colab-df-buttons div {\n",
              "      margin-bottom: 4px;\n",
              "    }\n",
              "\n",
              "    [theme=dark] .colab-df-convert {\n",
              "      background-color: #3B4455;\n",
              "      fill: #D2E3FC;\n",
              "    }\n",
              "\n",
              "    [theme=dark] .colab-df-convert:hover {\n",
              "      background-color: #434B5C;\n",
              "      box-shadow: 0px 1px 3px 1px rgba(0, 0, 0, 0.15);\n",
              "      filter: drop-shadow(0px 1px 2px rgba(0, 0, 0, 0.3));\n",
              "      fill: #FFFFFF;\n",
              "    }\n",
              "  </style>\n",
              "\n",
              "    <script>\n",
              "      const buttonEl =\n",
              "        document.querySelector('#df-dfa0b58e-f897-40a4-88c0-8dc29f3af80c button.colab-df-convert');\n",
              "      buttonEl.style.display =\n",
              "        google.colab.kernel.accessAllowed ? 'block' : 'none';\n",
              "\n",
              "      async function convertToInteractive(key) {\n",
              "        const element = document.querySelector('#df-dfa0b58e-f897-40a4-88c0-8dc29f3af80c');\n",
              "        const dataTable =\n",
              "          await google.colab.kernel.invokeFunction('convertToInteractive',\n",
              "                                                    [key], {});\n",
              "        if (!dataTable) return;\n",
              "\n",
              "        const docLinkHtml = 'Like what you see? Visit the ' +\n",
              "          '<a target=\"_blank\" href=https://colab.research.google.com/notebooks/data_table.ipynb>data table notebook</a>'\n",
              "          + ' to learn more about interactive tables.';\n",
              "        element.innerHTML = '';\n",
              "        dataTable['output_type'] = 'display_data';\n",
              "        await google.colab.output.renderOutput(dataTable, element);\n",
              "        const docLink = document.createElement('div');\n",
              "        docLink.innerHTML = docLinkHtml;\n",
              "        element.appendChild(docLink);\n",
              "      }\n",
              "    </script>\n",
              "  </div>\n",
              "\n",
              "\n",
              "    <div id=\"df-1e10bd51-bdde-4bdb-af46-c1ea0ee1d0c2\">\n",
              "      <button class=\"colab-df-quickchart\" onclick=\"quickchart('df-1e10bd51-bdde-4bdb-af46-c1ea0ee1d0c2')\"\n",
              "                title=\"Suggest charts\"\n",
              "                style=\"display:none;\">\n",
              "\n",
              "<svg xmlns=\"http://www.w3.org/2000/svg\" height=\"24px\"viewBox=\"0 0 24 24\"\n",
              "     width=\"24px\">\n",
              "    <g>\n",
              "        <path d=\"M19 3H5c-1.1 0-2 .9-2 2v14c0 1.1.9 2 2 2h14c1.1 0 2-.9 2-2V5c0-1.1-.9-2-2-2zM9 17H7v-7h2v7zm4 0h-2V7h2v10zm4 0h-2v-4h2v4z\"/>\n",
              "    </g>\n",
              "</svg>\n",
              "      </button>\n",
              "\n",
              "<style>\n",
              "  .colab-df-quickchart {\n",
              "      --bg-color: #E8F0FE;\n",
              "      --fill-color: #1967D2;\n",
              "      --hover-bg-color: #E2EBFA;\n",
              "      --hover-fill-color: #174EA6;\n",
              "      --disabled-fill-color: #AAA;\n",
              "      --disabled-bg-color: #DDD;\n",
              "  }\n",
              "\n",
              "  [theme=dark] .colab-df-quickchart {\n",
              "      --bg-color: #3B4455;\n",
              "      --fill-color: #D2E3FC;\n",
              "      --hover-bg-color: #434B5C;\n",
              "      --hover-fill-color: #FFFFFF;\n",
              "      --disabled-bg-color: #3B4455;\n",
              "      --disabled-fill-color: #666;\n",
              "  }\n",
              "\n",
              "  .colab-df-quickchart {\n",
              "    background-color: var(--bg-color);\n",
              "    border: none;\n",
              "    border-radius: 50%;\n",
              "    cursor: pointer;\n",
              "    display: none;\n",
              "    fill: var(--fill-color);\n",
              "    height: 32px;\n",
              "    padding: 0;\n",
              "    width: 32px;\n",
              "  }\n",
              "\n",
              "  .colab-df-quickchart:hover {\n",
              "    background-color: var(--hover-bg-color);\n",
              "    box-shadow: 0 1px 2px rgba(60, 64, 67, 0.3), 0 1px 3px 1px rgba(60, 64, 67, 0.15);\n",
              "    fill: var(--button-hover-fill-color);\n",
              "  }\n",
              "\n",
              "  .colab-df-quickchart-complete:disabled,\n",
              "  .colab-df-quickchart-complete:disabled:hover {\n",
              "    background-color: var(--disabled-bg-color);\n",
              "    fill: var(--disabled-fill-color);\n",
              "    box-shadow: none;\n",
              "  }\n",
              "\n",
              "  .colab-df-spinner {\n",
              "    border: 2px solid var(--fill-color);\n",
              "    border-color: transparent;\n",
              "    border-bottom-color: var(--fill-color);\n",
              "    animation:\n",
              "      spin 1s steps(1) infinite;\n",
              "  }\n",
              "\n",
              "  @keyframes spin {\n",
              "    0% {\n",
              "      border-color: transparent;\n",
              "      border-bottom-color: var(--fill-color);\n",
              "      border-left-color: var(--fill-color);\n",
              "    }\n",
              "    20% {\n",
              "      border-color: transparent;\n",
              "      border-left-color: var(--fill-color);\n",
              "      border-top-color: var(--fill-color);\n",
              "    }\n",
              "    30% {\n",
              "      border-color: transparent;\n",
              "      border-left-color: var(--fill-color);\n",
              "      border-top-color: var(--fill-color);\n",
              "      border-right-color: var(--fill-color);\n",
              "    }\n",
              "    40% {\n",
              "      border-color: transparent;\n",
              "      border-right-color: var(--fill-color);\n",
              "      border-top-color: var(--fill-color);\n",
              "    }\n",
              "    60% {\n",
              "      border-color: transparent;\n",
              "      border-right-color: var(--fill-color);\n",
              "    }\n",
              "    80% {\n",
              "      border-color: transparent;\n",
              "      border-right-color: var(--fill-color);\n",
              "      border-bottom-color: var(--fill-color);\n",
              "    }\n",
              "    90% {\n",
              "      border-color: transparent;\n",
              "      border-bottom-color: var(--fill-color);\n",
              "    }\n",
              "  }\n",
              "</style>\n",
              "\n",
              "      <script>\n",
              "        async function quickchart(key) {\n",
              "          const quickchartButtonEl =\n",
              "            document.querySelector('#' + key + ' button');\n",
              "          quickchartButtonEl.disabled = true;  // To prevent multiple clicks.\n",
              "          quickchartButtonEl.classList.add('colab-df-spinner');\n",
              "          try {\n",
              "            const charts = await google.colab.kernel.invokeFunction(\n",
              "                'suggestCharts', [key], {});\n",
              "          } catch (error) {\n",
              "            console.error('Error during call to suggestCharts:', error);\n",
              "          }\n",
              "          quickchartButtonEl.classList.remove('colab-df-spinner');\n",
              "          quickchartButtonEl.classList.add('colab-df-quickchart-complete');\n",
              "        }\n",
              "        (() => {\n",
              "          let quickchartButtonEl =\n",
              "            document.querySelector('#df-1e10bd51-bdde-4bdb-af46-c1ea0ee1d0c2 button');\n",
              "          quickchartButtonEl.style.display =\n",
              "            google.colab.kernel.accessAllowed ? 'block' : 'none';\n",
              "        })();\n",
              "      </script>\n",
              "    </div>\n",
              "\n",
              "  <div id=\"id_82ac3480-ac4f-4a72-bb84-30862d4cf0dc\">\n",
              "    <style>\n",
              "      .colab-df-generate {\n",
              "        background-color: #E8F0FE;\n",
              "        border: none;\n",
              "        border-radius: 50%;\n",
              "        cursor: pointer;\n",
              "        display: none;\n",
              "        fill: #1967D2;\n",
              "        height: 32px;\n",
              "        padding: 0 0 0 0;\n",
              "        width: 32px;\n",
              "      }\n",
              "\n",
              "      .colab-df-generate:hover {\n",
              "        background-color: #E2EBFA;\n",
              "        box-shadow: 0px 1px 2px rgba(60, 64, 67, 0.3), 0px 1px 3px 1px rgba(60, 64, 67, 0.15);\n",
              "        fill: #174EA6;\n",
              "      }\n",
              "\n",
              "      [theme=dark] .colab-df-generate {\n",
              "        background-color: #3B4455;\n",
              "        fill: #D2E3FC;\n",
              "      }\n",
              "\n",
              "      [theme=dark] .colab-df-generate:hover {\n",
              "        background-color: #434B5C;\n",
              "        box-shadow: 0px 1px 3px 1px rgba(0, 0, 0, 0.15);\n",
              "        filter: drop-shadow(0px 1px 2px rgba(0, 0, 0, 0.3));\n",
              "        fill: #FFFFFF;\n",
              "      }\n",
              "    </style>\n",
              "    <button class=\"colab-df-generate\" onclick=\"generateWithVariable('result')\"\n",
              "            title=\"Generate code using this dataframe.\"\n",
              "            style=\"display:none;\">\n",
              "\n",
              "  <svg xmlns=\"http://www.w3.org/2000/svg\" height=\"24px\"viewBox=\"0 0 24 24\"\n",
              "       width=\"24px\">\n",
              "    <path d=\"M7,19H8.4L18.45,9,17,7.55,7,17.6ZM5,21V16.75L18.45,3.32a2,2,0,0,1,2.83,0l1.4,1.43a1.91,1.91,0,0,1,.58,1.4,1.91,1.91,0,0,1-.58,1.4L9.25,21ZM18.45,9,17,7.55Zm-12,3A5.31,5.31,0,0,0,4.9,8.1,5.31,5.31,0,0,0,1,6.5,5.31,5.31,0,0,0,4.9,4.9,5.31,5.31,0,0,0,6.5,1,5.31,5.31,0,0,0,8.1,4.9,5.31,5.31,0,0,0,12,6.5,5.46,5.46,0,0,0,6.5,12Z\"/>\n",
              "  </svg>\n",
              "    </button>\n",
              "    <script>\n",
              "      (() => {\n",
              "      const buttonEl =\n",
              "        document.querySelector('#id_82ac3480-ac4f-4a72-bb84-30862d4cf0dc button.colab-df-generate');\n",
              "      buttonEl.style.display =\n",
              "        google.colab.kernel.accessAllowed ? 'block' : 'none';\n",
              "\n",
              "      buttonEl.onclick = () => {\n",
              "        google.colab.notebook.generateWithVariable('result');\n",
              "      }\n",
              "      })();\n",
              "    </script>\n",
              "  </div>\n",
              "\n",
              "    </div>\n",
              "  </div>\n"
            ],
            "application/vnd.google.colaboratory.intrinsic+json": {
              "type": "dataframe",
              "variable_name": "result",
              "summary": "{\n  \"name\": \"result\",\n  \"rows\": 2,\n  \"fields\": [\n    {\n      \"column\": \"Group\",\n      \"properties\": {\n        \"dtype\": \"string\",\n        \"num_unique_values\": 2,\n        \"samples\": [\n          \"B\",\n          \"A\"\n        ],\n        \"semantic_type\": \"\",\n        \"description\": \"\"\n      }\n    },\n    {\n      \"column\": \"mean\",\n      \"properties\": {\n        \"dtype\": \"number\",\n        \"std\": 0.4242640687119283,\n        \"min\": 4.2,\n        \"max\": 4.8,\n        \"num_unique_values\": 2,\n        \"samples\": [\n          4.8,\n          4.2\n        ],\n        \"semantic_type\": \"\",\n        \"description\": \"\"\n      }\n    },\n    {\n      \"column\": \"median\",\n      \"properties\": {\n        \"dtype\": \"number\",\n        \"std\": 0.0,\n        \"min\": 4.0,\n        \"max\": 4.0,\n        \"num_unique_values\": 1,\n        \"samples\": [\n          4.0\n        ],\n        \"semantic_type\": \"\",\n        \"description\": \"\"\n      }\n    },\n    {\n      \"column\": \"range\",\n      \"properties\": {\n        \"dtype\": \"number\",\n        \"std\": 2,\n        \"min\": 5,\n        \"max\": 8,\n        \"num_unique_values\": 2,\n        \"samples\": [\n          5\n        ],\n        \"semantic_type\": \"\",\n        \"description\": \"\"\n      }\n    },\n    {\n      \"column\": \"var\",\n      \"properties\": {\n        \"dtype\": \"number\",\n        \"std\": 4.242640687119284,\n        \"min\": 3.7,\n        \"max\": 9.7,\n        \"num_unique_values\": 2,\n        \"samples\": [\n          3.7\n        ],\n        \"semantic_type\": \"\",\n        \"description\": \"\"\n      }\n    },\n    {\n      \"column\": \"std\",\n      \"properties\": {\n        \"dtype\": \"number\",\n        \"std\": 0.8421245036809796,\n        \"min\": 1.9235384061671346,\n        \"max\": 3.1144823004794873,\n        \"num_unique_values\": 2,\n        \"samples\": [\n          1.9235384061671346\n        ],\n        \"semantic_type\": \"\",\n        \"description\": \"\"\n      }\n    }\n  ]\n}"
            }
          },
          "metadata": {},
          "execution_count": 37
        }
      ]
    },
    {
      "cell_type": "code",
      "source": [
        "# Use NumPy or pandas to summarize a dataset’s descriptive statistics\n",
        "\n",
        "import numpy as np\n",
        "import pandas as pd\n",
        "\n",
        "data={\n",
        "    'Group':np.random.choice(['A','B'], size=10),\n",
        "    'Values':np.random.randint(1,10,10)\n",
        "}\n",
        "df=pd.DataFrame(data)\n",
        "summary=df.describe()\n",
        "print(summary)"
      ],
      "metadata": {
        "id": "TKQyF24DBYrz",
        "colab": {
          "base_uri": "https://localhost:8080/"
        },
        "outputId": "02df3755-5e11-49aa-f6aa-c80acd6928c0"
      },
      "execution_count": null,
      "outputs": [
        {
          "output_type": "stream",
          "name": "stdout",
          "text": [
            "          Values\n",
            "count  10.000000\n",
            "mean    6.100000\n",
            "std     2.233582\n",
            "min     2.000000\n",
            "25%     5.000000\n",
            "50%     6.000000\n",
            "75%     7.750000\n",
            "max     9.000000\n"
          ]
        }
      ]
    },
    {
      "cell_type": "code",
      "source": [
        "# Plot a boxplot to understand the spread and identify outliers\n",
        "\n",
        "import numpy as np\n",
        "import pandas as pd\n",
        "import matplotlib.pyplot as plt\n",
        "import seaborn as sns\n",
        "\n",
        "# Assuming 'df' is your DataFrame from previous steps with a column named 'Values'\n",
        "# If not, replace 'df' with your DataFrame variable name\n",
        "\n",
        "df=pd.DataFrame(np.random.randint(1,10,10),columns=[\"Values\"])\n",
        "plt.figure(figsize=(8, 6))\n",
        "sns.boxplot(y=df['Values'])\n",
        "plt.title('Boxplot of Values')\n",
        "plt.ylabel('Values')\n",
        "plt.show()"
      ],
      "metadata": {
        "colab": {
          "base_uri": "https://localhost:8080/",
          "height": 526
        },
        "id": "LxY4r9ZS16cV",
        "outputId": "c4209e7f-f033-460f-b3b5-cc94fab87360"
      },
      "execution_count": null,
      "outputs": [
        {
          "output_type": "display_data",
          "data": {
            "text/plain": [
              "<Figure size 800x600 with 1 Axes>"
            ],
            "image/png": "[encoded data removed]"
          },
          "metadata": {}
        }
      ]
    },
    {
      "cell_type": "code",
      "source": [
        "# Calculate the interquartile range (IQR) of a dataset"
      ],
      "metadata": {
        "id": "ECNg0fZF2uY4"
      },
      "execution_count": null,
      "outputs": []
    },
    {
      "cell_type": "code",
      "source": [],
      "metadata": {
        "id": "cS4IOeVe4k-P"
      },
      "execution_count": null,
      "outputs": []
    },
    {
      "cell_type": "code",
      "metadata": {
        "colab": {
          "base_uri": "https://localhost:8080/"
        },
        "id": "be5f1cff",
        "outputId": "63e06014-0294-4c62-f45f-1717b162a947"
      },
      "source": [
        "# Calculate the interquartile range (IQR) of a dataset\n",
        "import pandas as pd\n",
        "import numpy as np\n",
        "df=pd.DataFrame(np.random.randint(1,10,10),columns=[\"Values\"])\n",
        "\n",
        "Q1 = df['Values'].quantile(0.25)\n",
        "Q3 = df['Values'].quantile(0.75)\n",
        "IQR = Q3 - Q1\n",
        "\n",
        "print(f\"The Interquartile Range (IQR) is: {IQR}\")"
      ],
      "execution_count": null,
      "outputs": [
        {
          "output_type": "stream",
          "name": "stdout",
          "text": [
            "The Interquartile Range (IQR) is: 4.0\n"
          ]
        }
      ]
    },
    {
      "cell_type": "code",
      "source": [
        "# Implement Z-score normalization and explain its significance\n",
        "# Implement Z-score normalization\n",
        "import pandas as pd\n",
        "import numpy as np\n",
        "\n",
        "# Assuming 'df' is your DataFrame from previous steps with a column named 'Values'\n",
        "# If not, replace 'df' with your DataFrame variable name\n",
        "\n",
        "df=pd.DataFrame(np.random.randint(1,10,10),columns=[\"Values\"])\n",
        "mean = df['Values'].mean()\n",
        "std_dev = df['Values'].std()\n",
        "\n",
        "df['Values_Zscore'] = (df['Values'] - mean) / std_dev\n",
        "\n",
        "print(\"Original Values:\")\n",
        "print(df['Values'])\n",
        "print(\"\\nZ-score Normalized Values:\")\n",
        "print(df['Values_Zscore'])"
      ],
      "metadata": {
        "colab": {
          "base_uri": "https://localhost:8080/"
        },
        "id": "tRLw6gcE5Il2",
        "outputId": "00f53a74-68db-41db-85d7-3500eedb7ec5"
      },
      "execution_count": null,
      "outputs": [
        {
          "output_type": "stream",
          "name": "stdout",
          "text": [
            "Original Values:\n",
            "0    6\n",
            "1    8\n",
            "2    4\n",
            "3    3\n",
            "4    9\n",
            "5    3\n",
            "6    9\n",
            "7    2\n",
            "8    2\n",
            "9    2\n",
            "Name: Values, dtype: int64\n",
            "\n",
            "Z-score Normalized Values:\n",
            "0    0.408669\n",
            "1    1.089784\n",
            "2   -0.272446\n",
            "3   -0.613003\n",
            "4    1.430341\n",
            "5   -0.613003\n",
            "6    1.430341\n",
            "7   -0.953561\n",
            "8   -0.953561\n",
            "9   -0.953561\n",
            "Name: Values_Zscore, dtype: float64\n"
          ]
        }
      ]
    },
    {
      "cell_type": "markdown",
      "metadata": {
        "id": "d28d0b71"
      },
      "source": [
        "### Significance of Z-score Normalization\n",
        "\n",
        "Z-score normalization (also known as standardization) is a data scaling technique where values are centered around the mean with a unit standard deviation. For each data point $x$, the Z-score is calculated as:\n",
        "\n",
        "$$ z = \\frac{x - \\mu}{\\sigma} $$\n",
        "\n",
        "where:\n",
        "- $x$ is the individual data point.\n",
        "- $\\mu$ is the mean of the dataset.\n",
        "- $\\sigma$ is the standard deviation of the dataset.\n",
        "\n",
        "Significance:\n",
        "\n",
        "1.  **Handling Different Scales:** It transforms features to have a mean of 0 and a standard deviation of 1. This is crucial when working with algorithms that are sensitive to the scale of features (e.g., gradient descent based algorithms, SVMs, K-means).\n",
        "2.  **Comparing Data from Different Distributions:** Z-scores allow you to compare data points from different datasets or distributions, as they are all transformed to a common scale.\n",
        "3.  **Outlier Detection:** Data points with a high absolute Z-score (typically above 2 or 3) can be considered outliers, as they are far from the mean.\n",
        "4.  **Assumptions of Algorithms:** Many statistical and machine learning algorithms assume that the data is normally distributed or at least centered around zero. Z-score normalization helps to meet these assumptions.\n",
        "5.  **Improved Performance:** Normalization can lead to faster convergence of optimization algorithms and better performance of machine learning models."
      ]
    },
    {
      "cell_type": "code",
      "source": [
        "# Compare two datasets using their standard deviations\n",
        "\n",
        "import pandas as pd\n",
        "import numpy as np\n",
        "\n",
        "df1=pd.DataFrame(np.random.randint(1,10,10),columns=[\"Values\"])\n",
        "df2=pd.DataFrame(np.random.randint(1,10,10),columns=[\"Values\"])\n",
        "\n",
        "std_dev1 = df1['Values'].std()\n",
        "std_dev2 = df2['Values'].std()\n",
        "\n",
        "print(f\"Standard Deviation of Dataset 1: {std_dev1}\")\n",
        "print(f\"Standard Deviation of Dataset 2: {std_dev2}\")\n",
        "\n",
        "if std_dev>=std_dev2:\n",
        "  print(\"Dataset 1 has higher standard deviation\")\n",
        "else:\n",
        "  print(\"Dataset 2 has higher standard deviation\")"
      ],
      "metadata": {
        "colab": {
          "base_uri": "https://localhost:8080/"
        },
        "id": "TYZzrJDB5x9a",
        "outputId": "169cc15e-ab48-418e-b80b-a6726b4e0dd3"
      },
      "execution_count": null,
      "outputs": [
        {
          "output_type": "stream",
          "name": "stdout",
          "text": [
            "Standard Deviation of Dataset 1: 2.6352313834736494\n",
            "Standard Deviation of Dataset 2: 2.573367875415838\n"
          ]
        }
      ]
    },
    {
      "cell_type": "code",
      "metadata": {
        "colab": {
          "base_uri": "https://localhost:8080/",
          "height": 452
        },
        "id": "7b2f25d9",
        "outputId": "2039a3f4-f05d-4e45-da83-f5ec31fcbe5a"
      },
      "source": [
        "# Write a Python program to visualize covariance using a heatmap\n",
        "\n",
        "import seaborn as sns\n",
        "import matplotlib.pyplot as plt\n",
        "\n",
        "df = sns.load_dataset('tips')\n",
        "covr=df.cov(numeric_only=True)\n",
        "sns.heatmap(covr,annot=True)\n",
        "plt.title(\"Covariance heatmap of tips data set\")\n",
        "plt.show()"
      ],
      "execution_count": null,
      "outputs": [
        {
          "output_type": "display_data",
          "data": {
            "text/plain": [
              "<Figure size 640x480 with 2 Axes>"
            ],
            "image/png": "[encoded data removed]"
          },
          "metadata": {}
        }
      ]
    },
    {
      "cell_type": "code",
      "source": [
        "# Use seaborn to create a correlation matrix for a dataset\n",
        "\n",
        "import seaborn as sns\n",
        "\n",
        "df = sns.load_dataset('tips')\n",
        "cor=df.corr(numeric_only=True)\n",
        "\n",
        "sns.heatmap(cor, annot=True, cmap='coolwarm', fmt=\".2f\")\n",
        "plt.title('Correlation Matrix of the Tips Dataset')\n",
        "plt.show()"
      ],
      "metadata": {
        "colab": {
          "base_uri": "https://localhost:8080/",
          "height": 452
        },
        "id": "bAWQUur671JD",
        "outputId": "fafe3293-6142-4192-ae15-9df05881c1dd"
      },
      "execution_count": null,
      "outputs": [
        {
          "output_type": "display_data",
          "data": {
            "text/plain": [
              "<Figure size 640x480 with 2 Axes>"
            ],
            "image/png": "[encoded data removed]"
          },
          "metadata": {}
        }
      ]
    },
    {
      "cell_type": "code",
      "source": [
        "# Generate a dataset and implement both variance and standard deviation computations\n",
        "\n",
        "import pandas as pd\n",
        "import numpy as np\n",
        "\n",
        "df=pd.DataFrame(np.random.randint(1,10,10),columns=['Values'])\n",
        "variance=df['Values'].var()\n",
        "std_dev=df['Values'].std()\n",
        "print(\"Variance:\",variance)\n",
        "print(\"Standard Deviation:\",std_dev)"
      ],
      "metadata": {
        "id": "zXRMIR0T87E4",
        "colab": {
          "base_uri": "https://localhost:8080/"
        },
        "outputId": "ecc6378d-0712-4073-b2cf-23788643e948"
      },
      "execution_count": null,
      "outputs": [
        {
          "output_type": "stream",
          "name": "stdout",
          "text": [
            "Variance: 7.611111111111111\n",
            "Standard Deviation: 2.758824226207808\n"
          ]
        }
      ]
    },
    {
      "cell_type": "code",
      "source": [
        "# Visualize skewness and kurtosis using Python libraries like matplotlib or seaborn\n",
        "\n",
        "import pandas as pd\n",
        "import numpy as np\n",
        "import matplotlib.pyplot as plt\n",
        "import seaborn as sns\n",
        "from scipy.stats import skew, kurtosis\n",
        "\n",
        "df=pd.DataFrame(np.random.exponential(scale=2.0, size=1000),columns=['Values'])\n",
        "skewness_value = df['Values'].skew()\n",
        "kurtosis_value = df['Values'].kurtosis()\n",
        "\n",
        "print(f\"Skewness: {skewness_value:.2f}\")\n",
        "print(f\"Kurtosis: {kurtosis_value:.2f}\")\n",
        "\n",
        "plt.figure(figsize=(8,6))\n",
        "sns.histplot(df['Values'], kde=True,color='black')\n",
        "plt.title(\"Distribution of Values\")\n",
        "plt.xlabel(\"Values\")\n",
        "plt.ylabel(\"Frequency\")\n",
        "plt.show()"
      ],
      "metadata": {
        "id": "k1UTjq_YM4Fi",
        "colab": {
          "base_uri": "https://localhost:8080/",
          "height": 599
        },
        "outputId": "c16b7685-f4e8-4e7f-e4a3-66bc32d945c4"
      },
      "execution_count": 21,
      "outputs": [
        {
          "output_type": "stream",
          "name": "stdout",
          "text": [
            "Skewness: 1.75\n",
            "Kurtosis: 3.52\n"
          ]
        },
        {
          "output_type": "display_data",
          "data": {
            "text/plain": [
              "<Figure size 800x600 with 1 Axes>"
            ],
            "image/png": "[encoded data removed]"
          },
          "metadata": {}
        }
      ]
    },
    {
      "cell_type": "code",
      "metadata": {
        "colab": {
          "base_uri": "https://localhost:8080/"
        },
        "id": "854f5f10",
        "outputId": "c911b736-1c7f-44b4-d3d5-536560ffcffc"
      },
      "source": [
        "# Implement the Pearson and Spearman correlation coefficients for a dataset.\n",
        "\n",
        "import pandas as pd\n",
        "import numpy as np\n",
        "\n",
        "# Create a sample dataset\n",
        "data = {\n",
        "    'Variable_A': np.random.rand(100),\n",
        "    'Variable_B': np.random.rand(100),\n",
        "    'Variable_C': np.random.randint(1, 10, 100)\n",
        "}\n",
        "df = pd.DataFrame(data)\n",
        "\n",
        "# Calculate Pearson correlation coefficient\n",
        "pearson_corr = df.corr(method='pearson')\n",
        "print(\"Pearson Correlation Matrix:\")\n",
        "print(pearson_corr)\n",
        "\n",
        "# Calculate Spearman correlation coefficient\n",
        "spearman_corr = df.corr(method='spearman')\n",
        "print(\"\\nSpearman Correlation Matrix:\")\n",
        "print(spearman_corr)"
      ],
      "execution_count": 26,
      "outputs": [
        {
          "output_type": "stream",
          "name": "stdout",
          "text": [
            "Pearson Correlation Matrix:\n",
            "            Variable_A  Variable_B  Variable_C\n",
            "Variable_A    1.000000    0.089801   -0.051256\n",
            "Variable_B    0.089801    1.000000    0.182263\n",
            "Variable_C   -0.051256    0.182263    1.000000\n",
            "\n",
            "Spearman Correlation Matrix:\n",
            "            Variable_A  Variable_B  Variable_C\n",
            "Variable_A    1.000000    0.098926   -0.038745\n",
            "Variable_B    0.098926    1.000000    0.172396\n",
            "Variable_C   -0.038745    0.172396    1.000000\n"
          ]
        }
      ]
    },
    {
      "cell_type": "code",
      "source": [],
      "metadata": {
        "id": "jiqJGeU8h78k"
      },
      "execution_count": 24,
      "outputs": []
    },
    {
      "cell_type": "code",
      "source": [],
      "metadata": {
        "id": "dAovBVg_h8YA"
      },
      "execution_count": null,
      "outputs": []
    }
  ]
}