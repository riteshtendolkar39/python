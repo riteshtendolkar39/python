{
  "nbformat": 4,
  "nbformat_minor": 0,
  "metadata": {
    "colab": {
      "provenance": []
    },
    "kernelspec": {
      "name": "python3",
      "display_name": "Python 3"
    },
    "language_info": {
      "name": "python"
    }
  },
  "cells": [
    {
      "cell_type": "code",
      "execution_count": null,
      "metadata": {
        "id": "N1SXCWwOJu0W",
        "colab": {
          "base_uri": "https://localhost:8080/"
        },
        "outputId": "25544475-cb03-42df-bc0a-b954972a2aa0"
      },
      "outputs": [
        {
          "output_type": "stream",
          "name": "stdout",
          "text": [
            "Dog barks bow bow!\n",
            "None\n"
          ]
        }
      ],
      "source": [
        "\"\"\"Create a parent class Animal with a method speak() that prints a generic message. Create a child class Dog\n",
        "that overrides the speak() method to print \"Bark!\".\"\"\"\n",
        "\n",
        "class Animal:\n",
        "    def speak(self):\n",
        "        print(\"This is animal class\")\n",
        "class Dog(Animal):\n",
        "    def speak(self):\n",
        "        print(\"Dog barks bow bow!\")\n",
        "ob1=Dog()\n",
        "print(ob1.speak())"
      ]
    },
    {
      "cell_type": "code",
      "source": [
        "\"\"\"Write a program to create an abstract class Shape with a method area(). Derive classes Circle and Rectangle\n",
        "from it and implement the area() method in both.\"\"\"\n",
        "\n",
        "from abc import ABC, abstractmethod\n",
        "class Shape(ABC):\n",
        "    @abstractmethod\n",
        "    def area(self):\n",
        "        pass\n",
        "class Circle(Shape):\n",
        "    def __init__(self,r):\n",
        "        self.r=r\n",
        "    def area(self):\n",
        "        return (22/7)*(self.r**2)\n",
        "class Rectangle(Shape):\n",
        "    def __init__(self,l,b):\n",
        "        self.l=l\n",
        "        self.b=b\n",
        "    def area(self):\n",
        "        return self.l*self.b\n",
        "circle = Circle(5)\n",
        "rectangle = Rectangle(4, 6)\n",
        "\n",
        "print(\"Area of Circle\",circle.area())\n",
        "print(\"Area of Rectangle\",rectangle.area())"
      ],
      "metadata": {
        "id": "9izqU43zJ9Vo",
        "colab": {
          "base_uri": "https://localhost:8080/"
        },
        "outputId": "166446b9-fe64-44f1-df6e-b11b50c222b2"
      },
      "execution_count": null,
      "outputs": [
        {
          "output_type": "stream",
          "name": "stdout",
          "text": [
            "Area of Circle 78.57142857142857\n",
            "Area of Rectangle 24\n"
          ]
        }
      ]
    },
    {
      "cell_type": "code",
      "source": [
        "\"\"\"Implement a multi-level inheritance scenario where a class Vehicle has an attribute type. Derive a class Car\n",
        "and further derive a class ElectricCar that adds a battery attribute.\"\"\"\n",
        "\n",
        "#parent class\n",
        "class Vehicle:\n",
        "    def __init__(self, type):\n",
        "        self.type=type\n",
        "\n",
        "    def display_info(self):\n",
        "      print(f\"Vehicle Type:{self.type}\")\n",
        "\n",
        "#derived class\n",
        "class Car(Vehicle):\n",
        "  def __init__(self,type,brand):\n",
        "    super().__init__(type)\n",
        "    self.brand=brand\n",
        "\n",
        "  def display_info(self):\n",
        "    super().display_info()\n",
        "    print(f\"Car Brand:{self.brand}\")\n",
        "\n",
        "#further derived class\n",
        "class ElectricCar(Car):\n",
        "  def __init__(self,type,brand,battery):\n",
        "    super().__init__(type,brand)\n",
        "    self.battery=battery\n",
        "  def display_info(self):\n",
        "    super().display_info()\n",
        "    print(f\"ElectricCar Battery:{self.battery}\")\n",
        "\n",
        "#instance creation of class ElectricCar\n",
        "ob1=ElectricCar(\"Four Wheeler\",\"Tesla\",\"KWh\")\n",
        "ob1.display_info()"
      ],
      "metadata": {
        "id": "EgZrts_zqhZX",
        "colab": {
          "base_uri": "https://localhost:8080/"
        },
        "outputId": "ba68a037-765a-41d1-fa45-4a2afce1d8f2"
      },
      "execution_count": null,
      "outputs": [
        {
          "output_type": "stream",
          "name": "stdout",
          "text": [
            "Vehicle Type:Four Wheeler\n",
            "Car Brand:Tesla\n",
            "ElectricCar Battery:KWh\n"
          ]
        }
      ]
    },
    {
      "cell_type": "code",
      "source": [
        "\"\"\" Demonstrate polymorphism by creating a base class Bird with a method fly(). Create two derived classes\n",
        "Sparrow and Penguin that override the fly() method.\"\"\"\n",
        "\n",
        "class Bird:\n",
        "    def fly(self):\n",
        "        print(\"Method of class Bird\")\n",
        "class Sparrow(Bird):\n",
        "    def fly(self):\n",
        "        print(\"Method of class Sparrow\")\n",
        "class Penguin(Sparrow):\n",
        "    def fly(self):\n",
        "        print(\"Method of class Penguin\")\n",
        "ob1=Penguin()\n",
        "ob1.fly()\n",
        "\n",
        "ob2=Sparrow()\n",
        "ob2.fly()\n",
        "\n",
        "ob3=Bird()\n",
        "ob3.fly()"
      ],
      "metadata": {
        "id": "j2ccP__nqiyc",
        "colab": {
          "base_uri": "https://localhost:8080/"
        },
        "outputId": "dba41c76-0e74-4117-b508-9c3bddc83c3d"
      },
      "execution_count": null,
      "outputs": [
        {
          "output_type": "stream",
          "name": "stdout",
          "text": [
            "Method of class Penguin\n",
            "Method of class Sparrow\n",
            "Method of class Bird\n"
          ]
        }
      ]
    },
    {
      "cell_type": "code",
      "source": [
        "\"\"\"Write a program to demonstrate encapsulation by creating a class BankAccount with private attributes\n",
        "balance and methods to deposit, withdraw, and check balance\"\"\"\n",
        "\n",
        "class BankAccount:\n",
        "\n",
        "  def __init__(self,balance):\n",
        "    self.__balance=balance  #private member\n",
        "\n",
        "  def deposit(self,amount):\n",
        "    self.__balance+=amount\n",
        "    print(f\"Amount deposited:{amount}\")\n",
        "\n",
        "  def withdraw(self,amount):\n",
        "    if self.__balance>=amount:  #private member accessible within class only\n",
        "      self.__balance-=amount\n",
        "      print(f\"Amount withdrawal:{amount}\")\n",
        "    else:\n",
        "      print(\"Insufficient balance\")\n",
        "\n",
        "  def check_balance(self):\n",
        "    print(f\"Balance:{self.__balance}\")\n",
        "\n",
        "ob1=BankAccount(1000)\n",
        "#ob1.__balance  #throws error if try to access\n",
        "# ob1._BankAccount__balance  #can be access using name mangling concept\n",
        "\n",
        "ob1.deposit(1000)\n",
        "ob1.withdraw(500)\n",
        "ob1.check_balance()"
      ],
      "metadata": {
        "id": "c_2eY802qkay",
        "colab": {
          "base_uri": "https://localhost:8080/"
        },
        "outputId": "16bfda4d-11bb-46f7-efdb-d0f95428632d"
      },
      "execution_count": null,
      "outputs": [
        {
          "output_type": "stream",
          "name": "stdout",
          "text": [
            "Amount deposited:1000\n",
            "Amount withdrawal:500\n",
            "Balance:1500\n"
          ]
        }
      ]
    },
    {
      "cell_type": "code",
      "source": [
        "\"\"\"Demonstrate runtime polymorphism using a method play() in a base class Instrument. Derive classes Guitar\n",
        "and Piano that implement their own version of play().\"\"\"\n",
        "\n",
        "class Instrument:\n",
        "  def play(self):\n",
        "    print(\"This is instrument class\")\n",
        "\n",
        "class Guitar(Instrument):\n",
        "  def play(self):\n",
        "    print(\"Guitar soundsl like twang, buzz!\")\n",
        "\n",
        "class Piano(Instrument):\n",
        "  def play(self):\n",
        "    print(\"Piano sounds like ding-dong, plink-plonk\")\n",
        "\n",
        "ob1=Piano()\n",
        "ob1.play()\n",
        "\n",
        "ob2=Guitar()\n",
        "ob2.play()"
      ],
      "metadata": {
        "id": "0L09zzf1qlWJ",
        "colab": {
          "base_uri": "https://localhost:8080/"
        },
        "outputId": "6193795d-8b8c-473f-f494-6f183131a4dc"
      },
      "execution_count": null,
      "outputs": [
        {
          "output_type": "stream",
          "name": "stdout",
          "text": [
            "Piano sounds like ding-dong, plink-plonk\n",
            "Guitar soundsl like twang, buzz!\n"
          ]
        }
      ]
    },
    {
      "cell_type": "code",
      "source": [
        "\"\"\" Create a class MathOperations with a class method add_numbers() to add two numbers and a static\n",
        "method subtract_numbers() to subtract two numbers.\"\"\"\n",
        "\n",
        "class MathOperations:\n",
        "  @classmethod\n",
        "  def add_numbers(cls,a,b):\n",
        "    return a+b\n",
        "\n",
        "  @staticmethod\n",
        "  def subtract_numbers(a,b):\n",
        "    return a-b\n",
        "\n",
        "ob1=MathOperations.add_numbers(10,20)\n",
        "ob2=MathOperations.subtract_numbers(10,4)\n",
        "\n",
        "print(f\"Class method add_numbers:{ob1}\")\n",
        "print(f\"Static method subtract_numbers:{ob2}\")"
      ],
      "metadata": {
        "id": "vNM5xDvpauUG",
        "colab": {
          "base_uri": "https://localhost:8080/"
        },
        "outputId": "5e63ae9f-b93e-4af1-9b97-2b6d9d8c967d"
      },
      "execution_count": null,
      "outputs": [
        {
          "output_type": "stream",
          "name": "stdout",
          "text": [
            "Class method add_numbers:30\n",
            "Static method subtract_numbers:6\n"
          ]
        }
      ]
    },
    {
      "cell_type": "code",
      "source": [
        "# Implement a class Person with a class method to count the total number of persons created.\n",
        "\n",
        "class Person:\n",
        "  count=0\n",
        "\n",
        "  def __init__(self,name):\n",
        "    self.name=name\n",
        "    Person.count+=1\n",
        "\n",
        "  @classmethod\n",
        "  def get_count(cls):\n",
        "    return cls.count\n",
        "\n",
        "p1=Person(\"Ram\")\n",
        "p2=Person(\"Sita\")\n",
        "p3=Person(\"Shyam\")\n",
        "\n",
        "Person.get_count()\n",
        "\n",
        "#class method is affecting to all instance of the class, the result remains same for all  object\n",
        "print(f\"Total number of Person using object p1:{p1.count}\")\n",
        "print(f\"Total number of Person using object p2:{p2.count}\")\n",
        "print(f\"Total number of Person using object p3:{p3.count}\")\n",
        "print(f\"Total number of Person using class method:{Person.count}\")"
      ],
      "metadata": {
        "colab": {
          "base_uri": "https://localhost:8080/"
        },
        "id": "g6gCBQpXqbXb",
        "outputId": "3e96df6b-4bc3-4a14-82d8-2049776cc1d0"
      },
      "execution_count": null,
      "outputs": [
        {
          "output_type": "stream",
          "name": "stdout",
          "text": [
            "Total number of Person using object p1:3\n",
            "Total number of Person using object p2:3\n",
            "Total number of Person using object p3:3\n",
            "Total number of Person using class method:3\n"
          ]
        }
      ]
    },
    {
      "cell_type": "code",
      "source": [
        "\"\"\"Write a class Fraction with attributes numerator and denominator. Override the str method to display the\n",
        "fraction as \"numerator/denominator\".\"\"\"\n",
        "\n",
        "class Fraction:\n",
        "\n",
        "    def __init__(self,numerator,denominator):\n",
        "        self.numerator=numerator\n",
        "        self.denominator=denominator\n",
        "\n",
        "    def __str__(self):\n",
        "        return f\"{self.numerator}/{self.denominator}\"\n",
        "\n",
        "ob1=Fraction(3,2)\n",
        "print(ob1)"
      ],
      "metadata": {
        "colab": {
          "base_uri": "https://localhost:8080/"
        },
        "id": "pKHdd4B6trtF",
        "outputId": "9d1cfdcd-ddc8-4964-8d6a-2961cb666941"
      },
      "execution_count": null,
      "outputs": [
        {
          "output_type": "stream",
          "name": "stdout",
          "text": [
            "3/2\n"
          ]
        }
      ]
    },
    {
      "cell_type": "code",
      "source": [
        "\"\"\"Demonstrate operator overloading by creating a class Vector and overriding the add method to add two\n",
        "vectors.\"\"\"\n",
        "\n",
        "class Vector:\n",
        "    def __init__(self,x,y):\n",
        "        self.x=x\n",
        "        self.y=y\n",
        "\n",
        "    def __add__(self,other):\n",
        "        return Vector(self.x+other.x,self.y+other.y)\n",
        "\n",
        "v1=Vector(2,3)\n",
        "v2=Vector(4,5)\n",
        "v3=v1+v2\n",
        "print(v3.x,v3.y)"
      ],
      "metadata": {
        "colab": {
          "base_uri": "https://localhost:8080/"
        },
        "id": "g_U5Vx1Z2NpO",
        "outputId": "ee3280dd-676f-4a2a-ba4f-9e710b073898"
      },
      "execution_count": null,
      "outputs": [
        {
          "output_type": "stream",
          "name": "stdout",
          "text": [
            "6 8\n"
          ]
        }
      ]
    },
    {
      "cell_type": "code",
      "source": [
        "\"\"\" Create a class Person with attributes name and age. Add a method greet() that prints \"Hello, my name is\n",
        "{name} and I am {age} years old.\"\"\"\n",
        "class Person:\n",
        "  def __init__(self,name,age):\n",
        "    self.name=name\n",
        "    self.age=age\n",
        "  def greet(self):\n",
        "    print(f\"Hello, my name is {self.name} and I am {self.age} years old\")\n",
        "ob1=Person(\"Shyam\", 21)\n",
        "ob1.greet()"
      ],
      "metadata": {
        "colab": {
          "base_uri": "https://localhost:8080/"
        },
        "id": "Imfp1Ofn5X53",
        "outputId": "d2a302d9-4872-4456-e5ed-fbf0d7836a19"
      },
      "execution_count": null,
      "outputs": [
        {
          "output_type": "stream",
          "name": "stdout",
          "text": [
            "Hello, my name is Shyam and I am 21 years old\n"
          ]
        }
      ]
    },
    {
      "cell_type": "code",
      "source": [
        "\"\"\" Implement a class Student with attributes name and grades. Create a method average_grade() to compute\n",
        "the average of the grades.\"\"\"\n",
        "\n",
        "class Student:\n",
        "    def __init__(self,name,grades):\n",
        "        self.name=name\n",
        "        self.grades=grades\n",
        "    def average_grade(self):\n",
        "        return sum(self.grades)/len(self.grades)\n",
        "\n",
        "ajay=Student(\"Ajay\",[80,90,87,76,97])\n",
        "\n",
        "# ajay.average_grade()\n",
        "print(f\"{ajay.name} scored {ajay.average_grade():.2f}% in exams\")"
      ],
      "metadata": {
        "id": "jSkVLpQI55k0"
      },
      "execution_count": null,
      "outputs": []
    },
    {
      "cell_type": "code",
      "source": [
        " #Create a class Rectangle with methods set_dimensions() to set the dimensions and area() to calculate the area.\n",
        "\n",
        "class Rectangle:\n",
        "  def set_dimensions(self,length,width):\n",
        "    self._length=length\n",
        "    self._width=width\n",
        "\n",
        "  def area(self):\n",
        "    return self._length*self._width\n",
        "\n",
        "ob1=Rectangle()\n",
        "ob1.set_dimensions(10,20)\n",
        "\n",
        "print(f\"Area of rectangle:{ob1.area()}\")"
      ],
      "metadata": {
        "colab": {
          "base_uri": "https://localhost:8080/"
        },
        "id": "UFjGVdQFWtOT",
        "outputId": "37cd4f2f-cfe9-41fa-dabf-28ece6113220"
      },
      "execution_count": 2,
      "outputs": [
        {
          "output_type": "stream",
          "name": "stdout",
          "text": [
            "Area of rectangle:200\n"
          ]
        }
      ]
    },
    {
      "cell_type": "code",
      "source": [
        "# Base class: Employee\n",
        "class Employee:\n",
        "    def __init__(self, name, hours, hourly_rate):\n",
        "        self.name = name\n",
        "        self.hours = hours\n",
        "        self.hourly_rate = hourly_rate\n",
        "\n",
        "    def calculate_salary(self):\n",
        "        self.salary = self.hours * self.hourly_rate\n",
        "        return self.salary\n",
        "\n",
        "    def display(self):\n",
        "        print(f\"Name: {self.name} and Salary before bonus: {self.salary}\")\n",
        "\n",
        "# Derived class: Manager\n",
        "class Manager(Employee):\n",
        "    def __init__(self, name, hours, hourly_rate, bonus):\n",
        "        super().__init__(name, hours, hourly_rate)\n",
        "        self.bonus = bonus\n",
        "\n",
        "    def calculate_salary(self):\n",
        "        base_salary = super().calculate_salary()\n",
        "        super().display()\n",
        "        print(f\"Bonus: {self.bonus} and Total Salary: {base_salary + self.bonus}\")\n",
        "\n",
        "# Create an object of Manager and compute salary\n",
        "ob1 = Manager(\"Shyam\", 10, 100, 1000)\n",
        "ob1.calculate_salary()\n"
      ],
      "metadata": {
        "colab": {
          "base_uri": "https://localhost:8080/"
        },
        "id": "pORWITwqWwzY",
        "outputId": "bf3ad49b-8f95-4839-a52b-c13214267923"
      },
      "execution_count": 12,
      "outputs": [
        {
          "output_type": "stream",
          "name": "stdout",
          "text": [
            "Name: Shyam and Salary before bonus: 1000\n",
            "Bonus: 1000 and Total Salary: 2000\n"
          ]
        }
      ]
    },
    {
      "cell_type": "code",
      "source": [
        "\"\"\"Create a class Product with attributes name, price, and quantity. Implement a method total_price() that\n",
        "calculates the total price of the product.\"\"\"\n",
        "\n",
        "class Product:\n",
        "    def __init__(self,name,qty,price):\n",
        "        self.name=name\n",
        "        self.qty=qty\n",
        "        self.price=price\n",
        "\n",
        "    def total_price(self):\n",
        "        return self.qty*self.price\n",
        "\n",
        "    def display_all_details(self):\n",
        "        print(f\"Product:{self.name} and Total Price:{self.total_price()}\")\n",
        "\n",
        "p1=Product(\"Oats\",2,145)\n",
        "p1.display_all_details()"
      ],
      "metadata": {
        "colab": {
          "base_uri": "https://localhost:8080/"
        },
        "id": "VYDWB-1dWxHv",
        "outputId": "dc8ae752-1cfe-43a9-b5c9-68e95cc3e36e"
      },
      "execution_count": 13,
      "outputs": [
        {
          "output_type": "stream",
          "name": "stdout",
          "text": [
            "Product:Oats and Total Price:290\n"
          ]
        }
      ]
    },
    {
      "cell_type": "code",
      "source": [
        "\"\"\"Create a class Animal with an abstract method sound(). Create two derived classes Cow and Sheep that\n",
        "implement the sound() method.\"\"\"\n",
        "\n",
        "from abc import ABC, abstractmethod\n",
        "class Animal(ABC):\n",
        "  @abstractmethod\n",
        "  def sound(self):\n",
        "    pass\n",
        "\n",
        "class Cow(Animal):\n",
        "  def sound(self):\n",
        "    print(\"Cow sounds like moo moo\")\n",
        "\n",
        "class Sheep(Animal):\n",
        "  def sound(self):\n",
        "    print(\"Shepp sounds like baa baa\")\n",
        "\n",
        "ob1=Cow()\n",
        "ob1.sound()\n",
        "\n",
        "ob2=Sheep()\n",
        "ob2.sound()"
      ],
      "metadata": {
        "colab": {
          "base_uri": "https://localhost:8080/"
        },
        "id": "HS9t9s1CWxSt",
        "outputId": "e5d99493-3a6f-4224-9942-4c3e7bcb7a7a"
      },
      "execution_count": 17,
      "outputs": [
        {
          "output_type": "stream",
          "name": "stdout",
          "text": [
            "Cow sounds like moo moo\n",
            "Shepp sounds like baa baa\n"
          ]
        }
      ]
    },
    {
      "cell_type": "code",
      "source": [
        "\"\"\"Create a class Book with attributes title, author, and year_published. Add a method get_book_info() that\n",
        "returns a formatted string with the book's details.\"\"\"\n",
        "\n",
        "class Book:\n",
        "  def __init__(self,title,author,year_published):\n",
        "    self.title=title\n",
        "    self.author=author\n",
        "    self.year_published=year_published\n",
        "\n",
        "  def get_book_info(self):\n",
        "    return f\"Title:{self.title}, Author:{self.author}, Year of published:{self.year_published}\"\n",
        "\n",
        "b1=Book(\"Auto-Biography of a yogi\",\"Paramahansa Yogananda\",\"1952\")\n",
        "b1.get_book_info().split(\",\")"
      ],
      "metadata": {
        "colab": {
          "base_uri": "https://localhost:8080/"
        },
        "id": "JNgBYbmQgcqv",
        "outputId": "9a612d19-923c-4bf6-81af-f5dc7498b6c9"
      },
      "execution_count": 28,
      "outputs": [
        {
          "output_type": "execute_result",
          "data": {
            "text/plain": [
              "['Title:Auto-Biography of a yogi',\n",
              " ' Author:Paramahansa Yogananda',\n",
              " ' Year of published:1952']"
            ]
          },
          "metadata": {},
          "execution_count": 28
        }
      ]
    },
    {
      "cell_type": "code",
      "source": [
        "\"\"\"Create a class House with attributes address and price. Create a derived class Mansion that adds an\n",
        "attribute number_of_rooms.\"\"\"\n",
        "\n",
        "# Base class\n",
        "class House:\n",
        "    def __init__(self, address, price):\n",
        "        self.address = address\n",
        "        self.price = price\n",
        "\n",
        "    def get_info(self):\n",
        "        return f\"Address: {self.address}, Price: ${self.price}\"\n",
        "\n",
        "# Derived class\n",
        "class Mansion(House):\n",
        "    def __init__(self, address, price, number_of_rooms):\n",
        "        super().__init__(address, price)  # Call constructor of House\n",
        "        self.number_of_rooms = number_of_rooms\n",
        "\n",
        "    def get_info(self):\n",
        "        # Override to include number_of_rooms\n",
        "        return f\"{super().get_info()}, Number of Rooms: {self.number_of_rooms}\"\n",
        "\n",
        "# Example usage\n",
        "mansion1 = Mansion(\"123 Luxury Lane\", 2500000, 10)\n",
        "print(mansion1.get_info())\n"
      ],
      "metadata": {
        "colab": {
          "base_uri": "https://localhost:8080/"
        },
        "id": "nR4JxmGugc8C",
        "outputId": "23b7229f-1fa4-4cb4-c7f4-2aa44a4bafd3"
      },
      "execution_count": 29,
      "outputs": [
        {
          "output_type": "stream",
          "name": "stdout",
          "text": [
            "Address: 123 Luxury Lane, Price: $2500000, Number of Rooms: 10\n"
          ]
        }
      ]
    },
    {
      "cell_type": "code",
      "source": [],
      "metadata": {
        "id": "LoIdM3RalFaY"
      },
      "execution_count": null,
      "outputs": []
    }
  ]
}