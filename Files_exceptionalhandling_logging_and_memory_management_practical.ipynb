{
  "nbformat": 4,
  "nbformat_minor": 0,
  "metadata": {
    "colab": {
      "provenance": []
    },
    "kernelspec": {
      "name": "python3",
      "display_name": "Python 3"
    },
    "language_info": {
      "name": "python"
    }
  },
  "cells": [
    {
      "cell_type": "code",
      "execution_count": 19,
      "metadata": {
        "id": "VH1D2aqxwR5F"
      },
      "outputs": [],
      "source": [
        "# How can you open a file for writing in Python and write a string to it\n",
        "with open(\"file.txt\", \"w\") as file:  #opening file in write mode\n",
        "  file.write(\"Hello World\")\n",
        "\n"
      ]
    },
    {
      "cell_type": "code",
      "source": [
        "# Write a Python program to read the contents of a file and print each line\n",
        "with open(\"file.txt\", \"r\") as file:  #opening file in read mode\n",
        "  print(file.read())"
      ],
      "metadata": {
        "colab": {
          "base_uri": "https://localhost:8080/"
        },
        "id": "EanZwT6iw8fX",
        "outputId": "9c164203-78bb-4729-bbef-74db89084518"
      },
      "execution_count": 20,
      "outputs": [
        {
          "output_type": "stream",
          "name": "stdout",
          "text": [
            "Hello World\n"
          ]
        }
      ]
    },
    {
      "cell_type": "code",
      "source": [
        "# How would you handle a case where the file doesn't exist while trying to open it for reading\n",
        "try:\n",
        "  with open(\"example\",\"r\") as f:\n",
        "    print(f.read())\n",
        "except FileNotFoundError as e:\n",
        "  print(\"File doesn't exist error>>\",e)"
      ],
      "metadata": {
        "colab": {
          "base_uri": "https://localhost:8080/"
        },
        "id": "A6oksPF3xI9c",
        "outputId": "954e73eb-02dd-47bb-c600-d8acee979f2e"
      },
      "execution_count": 21,
      "outputs": [
        {
          "output_type": "stream",
          "name": "stdout",
          "text": [
            "File doesn't exist error>> [Errno 2] No such file or directory: 'example'\n"
          ]
        }
      ]
    },
    {
      "cell_type": "code",
      "source": [
        "# Write a Python script that reads from one file and writes its content to another file\n",
        "\n",
        "with open(\"file.txt\",'r') as f:  #reading content and storing in data variable\n",
        "  data=f.read()\n",
        "\n",
        "with open(\"file2.txt\",\"w\") as f: #writing content through data variable in file2.txt\n",
        "  f.write(data)\n",
        "\n",
        "with open(\"file2.txt\",\"r\") as f: #opening file in reading mode\n",
        "  print(f.read())"
      ],
      "metadata": {
        "colab": {
          "base_uri": "https://localhost:8080/"
        },
        "id": "7yqZfPr_xp-k",
        "outputId": "63e5199a-b518-4142-c0b9-7cf22d1a7eb0"
      },
      "execution_count": 22,
      "outputs": [
        {
          "output_type": "stream",
          "name": "stdout",
          "text": [
            "Hello World\n"
          ]
        }
      ]
    },
    {
      "cell_type": "code",
      "source": [
        "#  How would you catch and handle division by zero error in Python\n",
        "\n",
        "try:\n",
        "  10/0\n",
        "except ZeroDivisionError as e:\n",
        "  print(\"Error:>>\",e)"
      ],
      "metadata": {
        "colab": {
          "base_uri": "https://localhost:8080/"
        },
        "id": "0AYZwaEwzFkc",
        "outputId": "48144484-04b9-4629-9228-66dd6c0fbe48"
      },
      "execution_count": 23,
      "outputs": [
        {
          "output_type": "stream",
          "name": "stdout",
          "text": [
            "Error:>> division by zero\n"
          ]
        }
      ]
    },
    {
      "cell_type": "code",
      "source": [
        "# Write a Python program that logs an error message to a log file when a division by zero exception occurs\n",
        "\n",
        "import logging\n",
        "logging.basicConfig(filename=\"app2.log\",level=logging.DEBUG)\n",
        "\n",
        "def divide(a,b):\n",
        "  try:\n",
        "    result=a/b\n",
        "    logging.info(f\"Performing division {a} and {b}\")\n",
        "    return result\n",
        "  except ZeroDivisionError as e:\n",
        "    logging.error(f\"Division by zero is not possible, error >> {e}\")\n",
        "    print(\"Division by zero is not possible\")\n",
        "\n",
        "divide(2,3)  #0.666\n",
        "divide(10,0)"
      ],
      "metadata": {
        "id": "CU-OzNYfzpjF",
        "colab": {
          "base_uri": "https://localhost:8080/"
        },
        "outputId": "08c3e107-2294-4da3-9c65-58844ee03a60"
      },
      "execution_count": 24,
      "outputs": [
        {
          "output_type": "stream",
          "name": "stderr",
          "text": [
            "ERROR:root:Division by zero is not possible, error >> division by zero\n"
          ]
        },
        {
          "output_type": "stream",
          "name": "stdout",
          "text": [
            "Division by zero is not possible\n"
          ]
        }
      ]
    },
    {
      "cell_type": "code",
      "source": [
        "#  How do you log information at different levels (INFO, ERROR, WARNING) in Python using the logging module\n",
        "\n",
        "import logging\n",
        "\n",
        "logging.basicConfig(filename=\"app3.log\",level=logging.DEBUG)\n",
        "logging.info(\"This is info message\")\n",
        "logging.error(\"This is error message\")\n",
        "logging.warning(\"This is warning message\")"
      ],
      "metadata": {
        "id": "20HHSTcHz4mu",
        "colab": {
          "base_uri": "https://localhost:8080/"
        },
        "outputId": "0068fc2c-f503-4837-acb0-373ba01282fa"
      },
      "execution_count": 25,
      "outputs": [
        {
          "output_type": "stream",
          "name": "stderr",
          "text": [
            "ERROR:root:This is error message\n",
            "WARNING:root:This is warning message\n"
          ]
        }
      ]
    },
    {
      "cell_type": "code",
      "source": [
        "# Write a program to handle a file opening error using exception handling\n",
        "\n",
        "try:\n",
        "  with open(\"file3.txt\",\"r\") as f:\n",
        "    print(f.read())\n",
        "except FileNotFoundError as e:\n",
        "  print(\"File doesn't exist error>>\",e)"
      ],
      "metadata": {
        "colab": {
          "base_uri": "https://localhost:8080/"
        },
        "id": "NecTaVREz40N",
        "outputId": "97cb47b1-53b4-4b00-8538-fac199fd9ad0"
      },
      "execution_count": 26,
      "outputs": [
        {
          "output_type": "stream",
          "name": "stdout",
          "text": [
            "1 \n",
            "2 \n",
            "3 \n",
            "4 \n",
            "5 \n",
            "6 \n",
            "\n"
          ]
        }
      ]
    },
    {
      "cell_type": "code",
      "source": [
        "# How can you read a file line by line and store its content in a list in Python\n",
        "\n",
        "with open(\"file.txt\",\"w\") as f:\n",
        "  f.write(\"This is first line\\n\")\n",
        "  f.write(\"This is second line\\n\")\n",
        "  f.write(\"This is third line\\n\")\n",
        "\n",
        "with open(\"file.txt\",\"r\") as f:\n",
        "  print(f.readlines())"
      ],
      "metadata": {
        "colab": {
          "base_uri": "https://localhost:8080/"
        },
        "id": "vFg5ZTcN0PL9",
        "outputId": "5c97c804-fea7-4032-fbb3-5a67c27917b1"
      },
      "execution_count": 27,
      "outputs": [
        {
          "output_type": "stream",
          "name": "stdout",
          "text": [
            "['This is first line\\n', 'This is second line\\n', 'This is third line\\n']\n"
          ]
        }
      ]
    },
    {
      "cell_type": "code",
      "source": [
        "#  How can you append data to an existing file in Python\n",
        "\n",
        "with open(\"file2.txt\",\"a\") as f:  #opening file in append mode\n",
        "  f.write(\"\\nThis last line will be added without overriting the data in the file\")  #appending this line in existing file named as file2.txt\n",
        "\n",
        "with open(\"file2.txt\",\"r\") as f:\n",
        "  print(f.read())"
      ],
      "metadata": {
        "colab": {
          "base_uri": "https://localhost:8080/"
        },
        "id": "w8tbp_xV0n5_",
        "outputId": "25bb3375-1079-48fc-cec1-bc6795e33d2c"
      },
      "execution_count": 28,
      "outputs": [
        {
          "output_type": "stream",
          "name": "stdout",
          "text": [
            "Hello World\n",
            "This last line will be added without overriting the data in the file\n"
          ]
        }
      ]
    },
    {
      "cell_type": "code",
      "source": [
        "# Write a Python program that uses a try-except block to handle an error when attempting to access a dictionary key that doesn't exist\n",
        "\n",
        "try:\n",
        "  dic={\"name\":\"Ajay\"}\n",
        "  print(dic[\"age\"])\n",
        "except KeyError as e:\n",
        "    print(f\"KeyError: The key {e} does not exist in the dictionary.\")"
      ],
      "metadata": {
        "colab": {
          "base_uri": "https://localhost:8080/"
        },
        "id": "5KcF815r1FTx",
        "outputId": "f3d0a9ee-a0a6-46bb-ac9d-044baa8a8771"
      },
      "execution_count": 29,
      "outputs": [
        {
          "output_type": "stream",
          "name": "stdout",
          "text": [
            "KeyError: The key 'age' does not exist in the dictionary.\n"
          ]
        }
      ]
    },
    {
      "cell_type": "code",
      "source": [
        "# Write a program that demonstrates using multiple except blocks to handle different types of exceptions\n",
        "\n",
        "try:\n",
        "  # 10/0\n",
        "  10/\"2\"\n",
        "except ZeroDivisionError as e:\n",
        "  print(\"The number is not divisible by zero\",e)\n",
        "except TypeError as e:\n",
        "  print(\"Type error\",e)"
      ],
      "metadata": {
        "colab": {
          "base_uri": "https://localhost:8080/"
        },
        "id": "EkscuG7Y2E0j",
        "outputId": "21526489-5f3d-4ef8-b9e6-3a49650f2611"
      },
      "execution_count": 30,
      "outputs": [
        {
          "output_type": "stream",
          "name": "stdout",
          "text": [
            "Type error unsupported operand type(s) for /: 'int' and 'str'\n"
          ]
        }
      ]
    },
    {
      "cell_type": "code",
      "source": [
        "#How would you check if a file exists before attempting to read it in Python\n",
        "\n",
        "import os\n",
        "\n",
        "file_path = 'file.txt'\n",
        "\n",
        "if os.path.exists(file_path):\n",
        "    with open(file_path, 'r') as file:\n",
        "        content = file.read()\n",
        "        print(content)\n",
        "else:\n",
        "    print(\"File does not exist.\")\n"
      ],
      "metadata": {
        "id": "WUo4eQQz3aZv",
        "colab": {
          "base_uri": "https://localhost:8080/"
        },
        "outputId": "8b0278c4-161a-4b02-ea9f-81d5ffd0940a"
      },
      "execution_count": 31,
      "outputs": [
        {
          "output_type": "stream",
          "name": "stdout",
          "text": [
            "This is first line\n",
            "This is second line\n",
            "This is third line\n",
            "\n"
          ]
        }
      ]
    },
    {
      "cell_type": "code",
      "source": [
        "# Write a program that uses the logging module to log both informational and error messages\n",
        "\n",
        "import logging\n",
        "\n",
        "# Set up basic configuration for logging\n",
        "logging.basicConfig(\n",
        "    filename='program.log',        # Log messages will be saved to 'app.log'\n",
        "    level=logging.DEBUG,       # Log messages of this level and above (DEBUG, INFO, WARNING, ERROR, CRITICAL)\n",
        "    format='%(asctime)s - %(levelname)s - %(message)s'\n",
        ")\n",
        "\n",
        "def divide(a, b):\n",
        "    try:\n",
        "        logging.info(f\"Attempting to divide {a} by {b}\")\n",
        "        result = a / b\n",
        "        logging.info(f\"Result of division: {result}\")\n",
        "        return result\n",
        "    except ZeroDivisionError as e:\n",
        "        logging.error(f\"Error occurred: Cannot divide by zero. Details: {e}\")\n",
        "    except Exception as e:\n",
        "        logging.error(f\"Unexpected error occurred: {e}\")\n",
        "\n",
        "# Example usage\n",
        "divide(10, 2)     # This should log an INFO message\n",
        "divide(5, 0)      # This should log an ERROR message\n"
      ],
      "metadata": {
        "colab": {
          "base_uri": "https://localhost:8080/"
        },
        "id": "tRm1tvg5EKy1",
        "outputId": "b9af599f-efa5-44a5-8b74-c4fd9ccc3b07"
      },
      "execution_count": 43,
      "outputs": [
        {
          "output_type": "stream",
          "name": "stderr",
          "text": [
            "ERROR:root:Error occurred: Cannot divide by zero. Details: division by zero\n"
          ]
        }
      ]
    },
    {
      "cell_type": "code",
      "source": [
        "# Write a Python program that prints the content of a file and handles the case when the file is empty\n",
        "\n",
        "\n",
        "try:\n",
        "  with open(\"file.txt\",'r') as file:\n",
        "    content=file.read()\n",
        "    if content.strip():\n",
        "      print(\"File content:\",content)\n",
        "    else:\n",
        "      print(\"The file is empty!\")\n",
        "except FileNotFoundError as e:\n",
        "  print(\"File does not exist, please check the file path again\",e)\n"
      ],
      "metadata": {
        "id": "hs-lIdjyEmji",
        "colab": {
          "base_uri": "https://localhost:8080/"
        },
        "outputId": "518a4b79-9d36-4996-f9bc-fb8a49d4f983"
      },
      "execution_count": 33,
      "outputs": [
        {
          "output_type": "stream",
          "name": "stdout",
          "text": [
            "File content: This is first line\n",
            "This is second line\n",
            "This is third line\n",
            "\n"
          ]
        }
      ]
    },
    {
      "cell_type": "code",
      "source": [
        "# Demonstrate how to use memory profiling to check the memory usage of a small program\n",
        "\n",
        "!pip install -q memory-profiler\n",
        "%load_ext memory_profiler\n",
        "\n",
        "def test_function():\n",
        "    a = [i for i in range(1000000)]\n",
        "    b = [i * 2 for i in a]\n",
        "    return b\n",
        "\n",
        "%memit test_function()\n"
      ],
      "metadata": {
        "id": "tVZ4-5p7Md13",
        "colab": {
          "base_uri": "https://localhost:8080/"
        },
        "outputId": "832e1762-4dfc-4551-c6b2-22261780de55"
      },
      "execution_count": 34,
      "outputs": [
        {
          "output_type": "stream",
          "name": "stdout",
          "text": [
            "The memory_profiler extension is already loaded. To reload it, use:\n",
            "  %reload_ext memory_profiler\n",
            "peak memory: 169.78 MiB, increment: 64.61 MiB\n"
          ]
        }
      ]
    },
    {
      "cell_type": "code",
      "source": [
        "# Write a Python program to create and write a list of numbers to a file, one number per line\n",
        "\n",
        "lst=[1,2,3,4,5,6]\n",
        "with open(\"file3.txt\",\"w\") as f:\n",
        "  for i in lst:\n",
        "    f.write(f\"{i} \\n\")\n",
        "\n",
        "with open(\"file3.txt\",\"r\") as f:\n",
        "  print(f.read())"
      ],
      "metadata": {
        "id": "ZKf5Tm9ZJbjF",
        "colab": {
          "base_uri": "https://localhost:8080/"
        },
        "outputId": "03a8ea40-cee5-4e08-a586-ff3273448773"
      },
      "execution_count": 35,
      "outputs": [
        {
          "output_type": "stream",
          "name": "stdout",
          "text": [
            "1 \n",
            "2 \n",
            "3 \n",
            "4 \n",
            "5 \n",
            "6 \n",
            "\n"
          ]
        }
      ]
    },
    {
      "cell_type": "code",
      "source": [
        "# How would you implement a basic logging setup that logs to a file with rotation after 1MB\n",
        "\n",
        "import logging\n",
        "from logging.handlers import RotatingFileHandler\n",
        "\n",
        "# Create logger\n",
        "logger = logging.getLogger('my_logger')\n",
        "logger.setLevel(logging.INFO)\n",
        "\n",
        "# Create a rotating file handler that rotates after 1MB, keep 3 backups\n",
        "handler = RotatingFileHandler('app.log', maxBytes=1_000_000, backupCount=3)\n",
        "formatter = logging.Formatter('%(asctime)s - %(levelname)s - %(message)s')\n",
        "\n",
        "handler.setFormatter(formatter)\n",
        "logger.addHandler(handler)\n",
        "\n"
      ],
      "metadata": {
        "id": "on1Z3M5KNuCU"
      },
      "execution_count": 36,
      "outputs": []
    },
    {
      "cell_type": "code",
      "source": [
        "# Write a program that handles both IndexError and KeyError using a try-except block\n",
        "\n",
        "try:\n",
        "    lst = [1, 'Ritesh', 'ajay', True, 12.5]\n",
        "    print(lst[5])  # This will raise IndexError\n",
        "\n",
        "    dic = {'name': 'ajay', 'age': 25}\n",
        "    print(dic['city'])  # This would raise KeyError if IndexError didn't occur first\n",
        "\n",
        "except IndexError as e:\n",
        "    print(f\"IndexError: {e}\")\n",
        "    print(\"Please check the index.\")\n",
        "\n",
        "except KeyError as e:\n",
        "    print(f\"KeyError: {e}\")\n",
        "    print(\"Please check the key name.\")\n"
      ],
      "metadata": {
        "colab": {
          "base_uri": "https://localhost:8080/"
        },
        "id": "OIXx9H3OO4Li",
        "outputId": "48debcd9-7e8b-4848-8cbf-3d03110aea0b"
      },
      "execution_count": 37,
      "outputs": [
        {
          "output_type": "stream",
          "name": "stdout",
          "text": [
            "IndexError: list index out of range\n",
            "Please check the index.\n"
          ]
        }
      ]
    },
    {
      "cell_type": "code",
      "source": [
        "#  How would you open a file and read its contents using a context manager in Python\n",
        "\n",
        "# To open a file and read its contents using a context manager in Python,\n",
        "# you use the with statement.\n",
        "# This ensures the file is automatically closed after you're done,\n",
        "# even if an error occurs during reading.\n",
        "\n",
        "with open(\"file.txt\") as f:\n",
        "  content=f.read()\n",
        "  print(content)"
      ],
      "metadata": {
        "colab": {
          "base_uri": "https://localhost:8080/"
        },
        "id": "WtvgzMOCP-J0",
        "outputId": "2b5ead35-85aa-428c-847c-4442aadf01df"
      },
      "execution_count": 38,
      "outputs": [
        {
          "output_type": "stream",
          "name": "stdout",
          "text": [
            "This is first line\n",
            "This is second line\n",
            "This is third line\n",
            "\n"
          ]
        }
      ]
    },
    {
      "cell_type": "code",
      "source": [
        "# Write a Python program that reads a file and prints the number of occurrences of a specific word\n",
        "count = 0\n",
        "with open(\"file4.txt\",\"w\") as f:\n",
        "  f.write(\"The quick brown fox jumps over the lazy dog. THE end.\")\n",
        "\n",
        "with open(\"file4.txt\",\"r\") as f:\n",
        "  content=f.read()\n",
        "  for i in content.split():\n",
        "    if i.lower()==\"the\":\n",
        "      count+=1\n",
        "print(f\"Number of 'the' is {count}\")\n"
      ],
      "metadata": {
        "colab": {
          "base_uri": "https://localhost:8080/"
        },
        "id": "QEpM6bUdSqK1",
        "outputId": "13278839-bc8d-4d0b-a50c-304b9f16fb61"
      },
      "execution_count": 39,
      "outputs": [
        {
          "output_type": "stream",
          "name": "stdout",
          "text": [
            "Number of 'the' is 3\n"
          ]
        }
      ]
    },
    {
      "cell_type": "code",
      "source": [
        "#  How can you check if a file is empty before attempting to read its contents\n",
        "\n",
        "\n",
        "# Create an empty file\n",
        "with open(\"file5.txt\", \"w\") as f:\n",
        "    f.write(\"\")\n",
        "\n",
        "try:\n",
        "    with open(\"file5.txt\", \"r\") as f:\n",
        "        content = f.read()\n",
        "        if content.strip():  # Check if there's any non-whitespace content\n",
        "            print(\"File content:\", content)\n",
        "        else:\n",
        "            print(\"File is empty\")\n",
        "except FileNotFoundError as e:\n",
        "    print(\"FileNotFoundError:\", e)\n",
        "except Exception as e:\n",
        "    print(\"An error occurred:\", e)\n"
      ],
      "metadata": {
        "colab": {
          "base_uri": "https://localhost:8080/"
        },
        "id": "UgsHmO3NTe3g",
        "outputId": "e46e2922-7629-41ca-a57d-0f66440c7d2d"
      },
      "execution_count": 40,
      "outputs": [
        {
          "output_type": "stream",
          "name": "stdout",
          "text": [
            "File is empty\n"
          ]
        }
      ]
    },
    {
      "cell_type": "code",
      "source": [
        "# Write a Python program that writes to a log file when an error occurs during file handling\n",
        "\n",
        "import logging\n",
        "\n",
        "logging.basicConfig(filename=\"config.log\", level=logging.DEBUG,\n",
        "                    format='%(asctime)s - %(levelname)ss - %(message)s')\n",
        "\n",
        "try:\n",
        "    logging.info(\"Reading file....\")\n",
        "    with open(\"file6.txt\", \"r\") as f:\n",
        "        content = f.read()\n",
        "        logging.info(f\"File content: {content}\")\n",
        "        print(content)\n",
        "except FileNotFoundError as e:\n",
        "    logging.error(f\"File does not exist, error: {e}\")\n",
        "    logging.info(\"First create the file and then read the file\")\n",
        "    print(f\"File does not exist, error: {e}\")\n",
        "except Exception as e:\n",
        "    logging.error(f\"An unexpected error occurred: {e}\")\n",
        "    print(f\"An unexpected error occurred: {e}\")\n"
      ],
      "metadata": {
        "colab": {
          "base_uri": "https://localhost:8080/"
        },
        "id": "gfGL6efkZ459",
        "outputId": "49e1a807-ea11-42b8-c179-8188608edd47"
      },
      "execution_count": 41,
      "outputs": [
        {
          "output_type": "stream",
          "name": "stderr",
          "text": [
            "ERROR:root:File does not exist, error: [Errno 2] No such file or directory: 'file6.txt'\n"
          ]
        },
        {
          "output_type": "stream",
          "name": "stdout",
          "text": [
            "File does not exist, error: [Errno 2] No such file or directory: 'file6.txt'\n"
          ]
        }
      ]
    },
    {
      "cell_type": "code",
      "source": [],
      "metadata": {
        "id": "rYQ6qCZUaw9k"
      },
      "execution_count": 41,
      "outputs": []
    }
  ]
}